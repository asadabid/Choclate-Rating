{
 "cells": [
  {
   "cell_type": "markdown",
   "metadata": {},
   "source": [
    "<h1>Final Project</h1><h2>COS60008 Introduction to Data Science - Semester 1 2020</h2><h5>Data Pre-Processing:</h5><p> Loading file in a dataframe, Validating if the df has data equal to the raw file, checking duplicates if exist then drop, stripping extra white spaces, renaming columns, replacing cells having 'Â' to null, checking for sum of null values in each column, storing all null values as boolean in an object, Calculating Correlation Cofficient for missing values filling, Filling beantype and broadbeanorigin missing values. <br><br> Modifying Cocoa Percent Column by #Removing % symbol and dividing by hundred as its percentage and converting it to float, Modifying CompanyLocation Column as it has full stops so removig any symbols from this column  <br><br> Modifying Company Column by removing symbols and cleaning column Company as it has makers and melters both names, so replacing the melters names with makers names if known, Creating a dictionary for bean type varieties and hence creating anew column beantype variety -  <br><br> Creating a new column BroadBeanOrigin as original BroadBeanOrigin column has multiple country names for one value and Replacing value with multiple if more than 1 country name, Creating a new column SpecificBeanOriginModified\n",
    "#Removing special characters in string and removing unnecessary information by splitting through first comma(,) -<br><h5>Model Development:</h5><p> Creating binned column using cut() for target variable, Creating Dummy Variables, calculating correlation cofficient for feature selection, data partitioning for train test split, printitng train and test data. Model Development, Hyperparameter tuning, cross validation score calculation, performance assesment, random forest classifier final model development, printing accuracy and confusion matrix, creating model.pickle binary file, creating visualisations for bonus part "
   ]
  },
  {
   "cell_type": "markdown",
   "metadata": {},
   "source": [
    "<h2>1- Data Pre-processing</h2>"
   ]
  },
  {
   "cell_type": "code",
   "execution_count": 2,
   "metadata": {},
   "outputs": [
    {
     "name": "stderr",
     "output_type": "stream",
     "text": [
      "E:\\Anaconda\\lib\\site-packages\\pandas\\core\\dtypes\\missing.py:404: UnicodeWarning:\n",
      "\n",
      "Unicode equal comparison failed to convert both arguments to Unicode - interpreting them as being unequal\n",
      "\n"
     ]
    },
    {
     "data": {
      "text/plain": [
       "(1500, 9)"
      ]
     },
     "execution_count": 2,
     "metadata": {},
     "output_type": "execute_result"
    }
   ],
   "source": [
    "#This assignment is supervised learning \n",
    "\n",
    "#Importing Libraries\n",
    "\n",
    "#Importing pandas library\n",
    "import pandas as pd\n",
    "\n",
    "#Importing numpy library\n",
    "import numpy as np\n",
    "\n",
    "#Importing library Regex\n",
    "import re\n",
    "\n",
    "#Creating dataframe 1 and storing data from data1.csv\n",
    "#Using utf-8 encoding as the dataset has symbols.\n",
    "df = pd.read_csv(\"chocolate.csv\", encoding='utf-8')\n",
    "\n",
    "#Checking if dataframe1 has the same data as data1.csv\n",
    "df.equals(pd.read_csv(\"chocolate.csv\"))\n",
    "\n",
    "df.shape"
   ]
  },
  {
   "cell_type": "code",
   "execution_count": 3,
   "metadata": {},
   "outputs": [
    {
     "data": {
      "text/plain": [
       "(1500, 9)"
      ]
     },
     "execution_count": 3,
     "metadata": {},
     "output_type": "execute_result"
    }
   ],
   "source": [
    "#Droping the duplicates and keeping the first one\n",
    "df.drop_duplicates(keep=\"first\", inplace = True)\n",
    "\n",
    "#Drop row if more than 50% of data missing\n",
    "df.dropna(thresh=5, inplace = True)\n",
    "\n",
    "for column in df:\n",
    "\n",
    "    #Selecting datatype of columns\n",
    "    datatype = df[column].dtypes\n",
    "    \n",
    "    #Checking if the columns' datatype is object i.e. has string values\n",
    "    if datatype==\"object\":\n",
    "        #Removing all leading and trailing whitespaces i.e extra whitespaces from the data\n",
    "        df[column] = df[column].str.strip()\n",
    "\n",
    "#Changing column names as the original names were have symbols such as (), -, \\n etc. Easy to access names are specified now\n",
    "df.columns = ['Company','SpecificBeanOrigin','REF',\n",
    "                     'ReviewDate','CocoaPercent','CompanyLocation','Rating','BeanType','BroadBeanOrigin']\n",
    "#Printing Shape        \n",
    "df.shape"
   ]
  },
  {
   "cell_type": "code",
   "execution_count": 4,
   "metadata": {},
   "outputs": [
    {
     "name": "stdout",
     "output_type": "stream",
     "text": [
      "Sum of Null Values in Columns\n",
      "Company                 0\n",
      "SpecificBeanOrigin      0\n",
      "REF                     0\n",
      "ReviewDate              0\n",
      "CocoaPercent            0\n",
      "CompanyLocation         0\n",
      "Rating                  0\n",
      "BeanType              751\n",
      "BroadBeanOrigin        62\n",
      "dtype: int64\n"
     ]
    }
   ],
   "source": [
    "#Calculating null values sum for every column\n",
    "df.isnull().sum()\n",
    "#For Column BeanType one value is Null and 750 values have 'Â'\n",
    "#For Column BroadBeanOrigin one value is Null and 750 values have 'Â'\n",
    "#Converting all to null values \n",
    "df['BeanType']=df['BeanType'].str.strip().replace('',np.nan)\n",
    "df['BroadBeanOrigin']=df['BroadBeanOrigin'].str.strip().replace('',np.nan)\n",
    "#Calculating null values sum for every column\n",
    "print(\"Sum of Null Values in Columns\")\n",
    "print(df.isnull().sum())\n",
    "# Storing null values in an object\n",
    "a = df.isnull()"
   ]
  },
  {
   "cell_type": "code",
   "execution_count": 5,
   "metadata": {},
   "outputs": [],
   "source": [
    "# Calculating Corelation Cofficient so missing values can be filled\n",
    "#df[\"Company\"] =df[\"Company\"].astype('category').cat.codes\n",
    "#df['SpecificBeanOrigin'] =df['SpecificBeanOrigin'].astype('category').cat.codes\n",
    "#df['CocoaPercent'] =df['CocoaPercent'].astype('category').cat.codes\n",
    "#df['CompanyLocation'] =df['CompanyLocation'].astype('category').cat.codes\n",
    "#df['BeanType'] =df['BeanType'].astype('category').cat.codes\n",
    "#df['BroadBeanOrigin'] =df['BroadBeanOrigin'].astype('category').cat.codes\n",
    "#a = df[df.columns[0:]].corr()['Rating'][:]\n",
    "#a.sort_values(ascending=False)"
   ]
  },
  {
   "cell_type": "code",
   "execution_count": 6,
   "metadata": {},
   "outputs": [
    {
     "name": "stderr",
     "output_type": "stream",
     "text": [
      "E:\\Anaconda\\lib\\site-packages\\ipykernel_launcher.py:59: SettingWithCopyWarning:\n",
      "\n",
      "\n",
      "A value is trying to be set on a copy of a slice from a DataFrame\n",
      "\n",
      "See the caveats in the documentation: http://pandas.pydata.org/pandas-docs/stable/indexing.html#indexing-view-versus-copy\n",
      "\n",
      "E:\\Anaconda\\lib\\site-packages\\ipykernel_launcher.py:53: SettingWithCopyWarning:\n",
      "\n",
      "\n",
      "A value is trying to be set on a copy of a slice from a DataFrame\n",
      "\n",
      "See the caveats in the documentation: http://pandas.pydata.org/pandas-docs/stable/indexing.html#indexing-view-versus-copy\n",
      "\n",
      "E:\\Anaconda\\lib\\site-packages\\ipykernel_launcher.py:56: SettingWithCopyWarning:\n",
      "\n",
      "\n",
      "A value is trying to be set on a copy of a slice from a DataFrame\n",
      "\n",
      "See the caveats in the documentation: http://pandas.pydata.org/pandas-docs/stable/indexing.html#indexing-view-versus-copy\n",
      "\n",
      "E:\\Anaconda\\lib\\site-packages\\ipykernel_launcher.py:62: SettingWithCopyWarning:\n",
      "\n",
      "\n",
      "A value is trying to be set on a copy of a slice from a DataFrame\n",
      "\n",
      "See the caveats in the documentation: http://pandas.pydata.org/pandas-docs/stable/indexing.html#indexing-view-versus-copy\n",
      "\n"
     ]
    }
   ],
   "source": [
    "#Filling missing values of BeanType column\n",
    "\n",
    "#Storing data in a variable from main df, taking all columns with high correlation cofficient to beantype column\n",
    "data_BeanType = [df[\"BroadBeanOrigin\"],df[\"Rating\"],df[\"SpecificBeanOrigin\"], df[\"BeanType\"]]\n",
    "#Initializing header for the df\n",
    "headers = [ \"BroadBeanOrigin\", \"Rating\", \"SpecificBeanOrigin\", \"BeanType\"]\n",
    "#Creating df from data stored in variable header for the df\n",
    "df_BeanType = pd.concat(data_BeanType, axis=1, keys=headers)\n",
    "df_BeanType = df_BeanType.dropna()\n",
    "df_BeanType['Combined']=df_BeanType['BroadBeanOrigin']+'|'+df_BeanType['Rating'].map(str)+'|'+df_BeanType['SpecificBeanOrigin']\n",
    "df_BeanType.sort_values(by='Combined', inplace=True)\n",
    "df_BeanType.drop(columns=['BroadBeanOrigin','Rating','SpecificBeanOrigin'], inplace=True)\n",
    "df_BeanType = df_BeanType.groupby(['Combined'])['BeanType'].agg(lambda x:x.value_counts().index[0]).reset_index()\n",
    "mydictionaryOfBeanType = pd.Series(df_BeanType.BeanType.values,index=df_BeanType.Combined).to_dict()\n",
    "\n",
    "data_BeanType1 = [df[\"BroadBeanOrigin\"],df[\"Rating\"], df[\"BeanType\"]]\n",
    "headers = [ \"BroadBeanOrigin\", \"Rating\", \"BeanType\"]\n",
    "df_BeanType1 = pd.concat(data_BeanType1, axis=1, keys=headers)\n",
    "df_BeanType1 = df_BeanType1.dropna()\n",
    "df_BeanType1['Combined1']=df_BeanType1['BroadBeanOrigin']+'|'+df_BeanType1['Rating'].map(str)\n",
    "df_BeanType1.sort_values(by='Combined1', inplace=True)\n",
    "df_BeanType1.drop(columns=['BroadBeanOrigin','Rating'], inplace=True)\n",
    "df_BeanType1 = df_BeanType1.groupby(['Combined1'])['BeanType'].agg(lambda x:x.value_counts().index[0]).reset_index()\n",
    "mydictionaryOfBeanType1 = pd.Series(df_BeanType1.BeanType.values,index=df_BeanType1.Combined1).to_dict()\n",
    "\n",
    "data_BeanType2 = [df[\"BroadBeanOrigin\"], df[\"BeanType\"]]\n",
    "headers = [ \"BroadBeanOrigin\", \"BeanType\"]\n",
    "df_BeanType2 = pd.concat(data_BeanType2, axis=1, keys=headers)\n",
    "df_BeanType2 = df_BeanType2.dropna()\n",
    "df_BeanType2.sort_values(by='BroadBeanOrigin', inplace=True)\n",
    "df_BeanType2 = df_BeanType2.groupby(['BroadBeanOrigin'])['BeanType'].agg(lambda x:x.value_counts().index[0]).reset_index()\n",
    "mydictionaryOfBeanType2 = pd.Series(df_BeanType2.BeanType.values,index=df_BeanType2.BroadBeanOrigin).to_dict()\n",
    "\n",
    "data_BeanType3 = [df[\"Rating\"], df[\"BeanType\"]]\n",
    "headers = [ \"Rating\", \"BeanType\"]\n",
    "df_BeanType3 = pd.concat(data_BeanType3, axis=1, keys=headers)\n",
    "df_BeanType3 = df_BeanType3.dropna()\n",
    "df_BeanType3.sort_values(by='Rating', inplace=True)\n",
    "df_BeanType3 = df_BeanType3.groupby(['Rating'])['BeanType'].agg(lambda x:x.value_counts().index[0]).reset_index()\n",
    "mydictionaryOfBeanType3 = pd.Series(df_BeanType3.BeanType.values,index=df_BeanType3.Rating).to_dict()\n",
    "\n",
    "\n",
    "for ind in df[\"BeanType\"].index:\n",
    "    if a[\"BeanType\"][ind]==True: \n",
    "        compare = str(df['BroadBeanOrigin'][ind])+'|'+str(df['Rating'][ind])+'|'+str(df['SpecificBeanOrigin'][ind])\n",
    "        compare1 = str(df['BroadBeanOrigin'][ind])+'|'+str(df['Rating'][ind])\n",
    "        compare2 = df['BroadBeanOrigin'][ind]\n",
    "        compare3 = df['Rating'][ind]\n",
    "        if(str(mydictionaryOfBeanType.get(compare))==\"None\"):\n",
    "            if(str(mydictionaryOfBeanType1.get(compare1))==\"None\"):\n",
    "                if(str(mydictionaryOfBeanType2.get(compare2))==\"None\"):\n",
    "                    #print(\"Index: \",ind, \" updated to BeanType: \",mydictionaryOfBeanType3.get(compare3),\" | Key: \",compare3)\n",
    "                    df['BeanType'][ind] = mydictionaryOfBeanType3.get(compare3)\n",
    "                else:\n",
    "                    #print(\"Index: \",ind, \" updated to BeanType: \",mydictionaryOfBeanType2.get(compare2),\" | Key: \",compare2)\n",
    "                    df['BeanType'][ind] = mydictionaryOfBeanType2.get(compare2)\n",
    "            else:\n",
    "                #print(\"Index: \",ind, \" updated to BeanType: \",mydictionaryOfBeanType1.get(compare1),\" | Key: \",compare1)\n",
    "                df['BeanType'][ind] = mydictionaryOfBeanType1.get(compare1)\n",
    "        else:\n",
    "            #print(\"Index: \",ind, \" updated to BeanType: \",mydictionaryOfBeanType.get(compare),\" | Key: \",compare)\n",
    "            df['BeanType'][ind] = mydictionaryOfBeanType.get(compare)"
   ]
  },
  {
   "cell_type": "code",
   "execution_count": 7,
   "metadata": {},
   "outputs": [
    {
     "name": "stderr",
     "output_type": "stream",
     "text": [
      "E:\\Anaconda\\lib\\site-packages\\ipykernel_launcher.py:37: SettingWithCopyWarning:\n",
      "\n",
      "\n",
      "A value is trying to be set on a copy of a slice from a DataFrame\n",
      "\n",
      "See the caveats in the documentation: http://pandas.pydata.org/pandas-docs/stable/indexing.html#indexing-view-versus-copy\n",
      "\n",
      "E:\\Anaconda\\lib\\site-packages\\ipykernel_launcher.py:40: SettingWithCopyWarning:\n",
      "\n",
      "\n",
      "A value is trying to be set on a copy of a slice from a DataFrame\n",
      "\n",
      "See the caveats in the documentation: http://pandas.pydata.org/pandas-docs/stable/indexing.html#indexing-view-versus-copy\n",
      "\n",
      "E:\\Anaconda\\lib\\site-packages\\ipykernel_launcher.py:43: SettingWithCopyWarning:\n",
      "\n",
      "\n",
      "A value is trying to be set on a copy of a slice from a DataFrame\n",
      "\n",
      "See the caveats in the documentation: http://pandas.pydata.org/pandas-docs/stable/indexing.html#indexing-view-versus-copy\n",
      "\n"
     ]
    }
   ],
   "source": [
    "#Filling missing values of BroadBeanOrigin\n",
    "\n",
    "data_BroadBeanOrigin = [df[\"SpecificBeanOrigin\"], df[\"BeanType\"],df[\"BroadBeanOrigin\"]]\n",
    "headers = [\"SpecificBeanOrigin\", \"BeanType\", \"BroadBeanOrigin\"]\n",
    "df_BroadBeanOrigin = pd.concat(data_BroadBeanOrigin, axis=1, keys=headers)\n",
    "df_BroadBeanOrigin = df_BroadBeanOrigin.dropna()\n",
    "df_BroadBeanOrigin['Combined']=df_BroadBeanOrigin['SpecificBeanOrigin']+'|'+df_BroadBeanOrigin['BeanType']\n",
    "df_BroadBeanOrigin.sort_values(by='Combined', inplace=True)\n",
    "df_BroadBeanOrigin.drop(columns=['SpecificBeanOrigin','BeanType'], inplace=True)\n",
    "df_BroadBeanOrigin = df_BroadBeanOrigin.groupby(['Combined'])['BroadBeanOrigin'].agg(lambda x:x.value_counts().index[0]).reset_index()\n",
    "mydictionaryOfBroadBeanOrigin = pd.Series(df_BroadBeanOrigin.BroadBeanOrigin.values,index=df_BroadBeanOrigin.Combined).to_dict()\n",
    "\n",
    "data_BroadBeanOrigin1 = [df[\"SpecificBeanOrigin\"],df[\"BroadBeanOrigin\"]]\n",
    "headers = [\"SpecificBeanOrigin\", \"BroadBeanOrigin\"]\n",
    "df_BroadBeanOrigin1 = pd.concat(data_BroadBeanOrigin1, axis=1, keys=headers)\n",
    "df_BroadBeanOrigin1 = df_BroadBeanOrigin1.dropna()\n",
    "df_BroadBeanOrigin1.sort_values(by='SpecificBeanOrigin', inplace=True)\n",
    "df_BroadBeanOrigin1 = df_BroadBeanOrigin1.groupby(['SpecificBeanOrigin'])['BroadBeanOrigin'].agg(lambda x:x.value_counts().index[0]).reset_index()\n",
    "mydictionaryOfBroadBeanOrigin1 = pd.Series(df_BroadBeanOrigin1.BroadBeanOrigin.values,index=df_BroadBeanOrigin1.SpecificBeanOrigin).to_dict()\n",
    "\n",
    "data_BroadBeanOrigin2 = [df[\"BeanType\"],df[\"BroadBeanOrigin\"]]\n",
    "headers = [\"BeanType\", \"BroadBeanOrigin\"]\n",
    "df_BroadBeanOrigin2 = pd.concat(data_BroadBeanOrigin2, axis=1, keys=headers)\n",
    "df_BroadBeanOrigin2 = df_BroadBeanOrigin2.dropna()\n",
    "df_BroadBeanOrigin2.sort_values(by='BeanType', inplace=True)\n",
    "df_BroadBeanOrigin2 = df_BroadBeanOrigin2.groupby(['BeanType'])['BroadBeanOrigin'].agg(lambda x:x.value_counts().index[0]).reset_index()\n",
    "mydictionaryOfBroadBeanOrigin2 = pd.Series(df_BroadBeanOrigin2.BroadBeanOrigin.values,index=df_BroadBeanOrigin2.BeanType).to_dict()\n",
    "\n",
    "for ind in df[\"BroadBeanOrigin\"].index:\n",
    "    if a[\"BroadBeanOrigin\"][ind]==True: \n",
    "        compare = df['SpecificBeanOrigin'][ind]+'|'+df['BeanType'][ind]\n",
    "        compare1 = df['SpecificBeanOrigin'][ind]\n",
    "        compare2 = df['BeanType'][ind]\n",
    "        if(str(mydictionaryOfBroadBeanOrigin.get(compare))==\"None\"):\n",
    "            if(str(mydictionaryOfBroadBeanOrigin1.get(compare1))==\"None\"):\n",
    "                #print(\"Index: \",ind, \" updated to BroadBeanOrigin: \",mydictionaryOfBroadBeanOrigin2.get(compare2),\" | Key: \",compare2)\n",
    "                df['BroadBeanOrigin'][ind] = mydictionaryOfBroadBeanOrigin2.get(compare2)\n",
    "            else:\n",
    "                #print(\"Index: \",ind, \" updated to BroadBeanOrigin: \",mydictionaryOfBroadBeanOrigin1.get(compare1),\" | Key: \",compare1)\n",
    "                df['BroadBeanOrigin'][ind] = mydictionaryOfBroadBeanOrigin1.get(compare1)\n",
    "        else:\n",
    "            #print(\"Index: \",ind, \" updated to BroadBeanOrigin: \",mydictionaryOfBroadBeanOrigin.get(compare),\" | Key: \",compare)\n",
    "            df['BroadBeanOrigin'][ind] = mydictionaryOfBroadBeanOrigin.get(compare)"
   ]
  },
  {
   "cell_type": "code",
   "execution_count": 8,
   "metadata": {},
   "outputs": [
    {
     "data": {
      "text/plain": [
       "Company               0\n",
       "SpecificBeanOrigin    0\n",
       "REF                   0\n",
       "ReviewDate            0\n",
       "CocoaPercent          0\n",
       "CompanyLocation       0\n",
       "Rating                0\n",
       "BeanType              0\n",
       "BroadBeanOrigin       0\n",
       "dtype: int64"
      ]
     },
     "execution_count": 8,
     "metadata": {},
     "output_type": "execute_result"
    }
   ],
   "source": [
    "#After filling values, checking null values sum for every column\n",
    "df.isnull().sum()"
   ]
  },
  {
   "cell_type": "code",
   "execution_count": 9,
   "metadata": {},
   "outputs": [
    {
     "data": {
      "text/html": [
       "<div>\n",
       "<style scoped>\n",
       "    .dataframe tbody tr th:only-of-type {\n",
       "        vertical-align: middle;\n",
       "    }\n",
       "\n",
       "    .dataframe tbody tr th {\n",
       "        vertical-align: top;\n",
       "    }\n",
       "\n",
       "    .dataframe thead th {\n",
       "        text-align: right;\n",
       "    }\n",
       "</style>\n",
       "<table border=\"1\" class=\"dataframe\">\n",
       "  <thead>\n",
       "    <tr style=\"text-align: right;\">\n",
       "      <th></th>\n",
       "      <th>Company</th>\n",
       "      <th>SpecificBeanOrigin</th>\n",
       "      <th>REF</th>\n",
       "      <th>ReviewDate</th>\n",
       "      <th>CocoaPercent</th>\n",
       "      <th>CompanyLocation</th>\n",
       "      <th>Rating</th>\n",
       "      <th>BeanType</th>\n",
       "      <th>BroadBeanOrigin</th>\n",
       "    </tr>\n",
       "  </thead>\n",
       "  <tbody>\n",
       "    <tr>\n",
       "      <th>0</th>\n",
       "      <td>Valrhona</td>\n",
       "      <td>Manjari</td>\n",
       "      <td>129</td>\n",
       "      <td>2007</td>\n",
       "      <td>0.64</td>\n",
       "      <td>France</td>\n",
       "      <td>4.00</td>\n",
       "      <td>Criollo, Trinitario</td>\n",
       "      <td>Madagascar</td>\n",
       "    </tr>\n",
       "    <tr>\n",
       "      <th>1</th>\n",
       "      <td>Original Beans (Felchlin)</td>\n",
       "      <td>Grand Cru Blend No.1, 5 yr. Anniversary Ed</td>\n",
       "      <td>1442</td>\n",
       "      <td>2014</td>\n",
       "      <td>0.80</td>\n",
       "      <td>Switzerland</td>\n",
       "      <td>3.25</td>\n",
       "      <td>Blend</td>\n",
       "      <td>Hawaii</td>\n",
       "    </tr>\n",
       "    <tr>\n",
       "      <th>2</th>\n",
       "      <td>Potomac</td>\n",
       "      <td>Upala w/ nibs</td>\n",
       "      <td>647</td>\n",
       "      <td>2011</td>\n",
       "      <td>0.70</td>\n",
       "      <td>U.S.A.</td>\n",
       "      <td>3.50</td>\n",
       "      <td>Matina</td>\n",
       "      <td>Costa Rica</td>\n",
       "    </tr>\n",
       "    <tr>\n",
       "      <th>3</th>\n",
       "      <td>Middlebury</td>\n",
       "      <td>Matagalpa, Cacao Bisiesto</td>\n",
       "      <td>1538</td>\n",
       "      <td>2015</td>\n",
       "      <td>0.70</td>\n",
       "      <td>U.S.A.</td>\n",
       "      <td>3.50</td>\n",
       "      <td>Criollo, Trinitario</td>\n",
       "      <td>Nicaragua</td>\n",
       "    </tr>\n",
       "    <tr>\n",
       "      <th>4</th>\n",
       "      <td>Carlotta Chocolat</td>\n",
       "      <td>Cesar</td>\n",
       "      <td>1888</td>\n",
       "      <td>2016</td>\n",
       "      <td>0.65</td>\n",
       "      <td>Colombia</td>\n",
       "      <td>3.50</td>\n",
       "      <td>CCN51</td>\n",
       "      <td>Colombia</td>\n",
       "    </tr>\n",
       "  </tbody>\n",
       "</table>\n",
       "</div>"
      ],
      "text/plain": [
       "                     Company                          SpecificBeanOrigin  \\\n",
       "0                   Valrhona                                     Manjari   \n",
       "1  Original Beans (Felchlin)  Grand Cru Blend No.1, 5 yr. Anniversary Ed   \n",
       "2                    Potomac                               Upala w/ nibs   \n",
       "3                 Middlebury                   Matagalpa, Cacao Bisiesto   \n",
       "4          Carlotta Chocolat                                       Cesar   \n",
       "\n",
       "    REF  ReviewDate  CocoaPercent CompanyLocation  Rating  \\\n",
       "0   129        2007          0.64          France    4.00   \n",
       "1  1442        2014          0.80     Switzerland    3.25   \n",
       "2   647        2011          0.70          U.S.A.    3.50   \n",
       "3  1538        2015          0.70          U.S.A.    3.50   \n",
       "4  1888        2016          0.65        Colombia    3.50   \n",
       "\n",
       "              BeanType BroadBeanOrigin  \n",
       "0  Criollo, Trinitario      Madagascar  \n",
       "1                Blend          Hawaii  \n",
       "2               Matina      Costa Rica  \n",
       "3  Criollo, Trinitario       Nicaragua  \n",
       "4                CCN51        Colombia  "
      ]
     },
     "execution_count": 9,
     "metadata": {},
     "output_type": "execute_result"
    }
   ],
   "source": [
    "#Removing % symbol and dividing by hundred as its percentage and converting it to float\n",
    "df['CocoaPercent'] = df['CocoaPercent'].str.replace('%','').astype(float)/100\n",
    "df.head()"
   ]
  },
  {
   "cell_type": "code",
   "execution_count": 10,
   "metadata": {},
   "outputs": [
    {
     "data": {
      "text/html": [
       "<div>\n",
       "<style scoped>\n",
       "    .dataframe tbody tr th:only-of-type {\n",
       "        vertical-align: middle;\n",
       "    }\n",
       "\n",
       "    .dataframe tbody tr th {\n",
       "        vertical-align: top;\n",
       "    }\n",
       "\n",
       "    .dataframe thead th {\n",
       "        text-align: right;\n",
       "    }\n",
       "</style>\n",
       "<table border=\"1\" class=\"dataframe\">\n",
       "  <thead>\n",
       "    <tr style=\"text-align: right;\">\n",
       "      <th></th>\n",
       "      <th>Company</th>\n",
       "      <th>SpecificBeanOrigin</th>\n",
       "      <th>REF</th>\n",
       "      <th>ReviewDate</th>\n",
       "      <th>CocoaPercent</th>\n",
       "      <th>CompanyLocation</th>\n",
       "      <th>Rating</th>\n",
       "      <th>BeanType</th>\n",
       "      <th>BroadBeanOrigin</th>\n",
       "    </tr>\n",
       "  </thead>\n",
       "  <tbody>\n",
       "    <tr>\n",
       "      <th>0</th>\n",
       "      <td>Valrhona</td>\n",
       "      <td>Manjari</td>\n",
       "      <td>129</td>\n",
       "      <td>2007</td>\n",
       "      <td>0.64</td>\n",
       "      <td>France</td>\n",
       "      <td>4.00</td>\n",
       "      <td>Criollo, Trinitario</td>\n",
       "      <td>Madagascar</td>\n",
       "    </tr>\n",
       "    <tr>\n",
       "      <th>1</th>\n",
       "      <td>Original Beans (Felchlin)</td>\n",
       "      <td>Grand Cru Blend No.1, 5 yr. Anniversary Ed</td>\n",
       "      <td>1442</td>\n",
       "      <td>2014</td>\n",
       "      <td>0.80</td>\n",
       "      <td>Switzerland</td>\n",
       "      <td>3.25</td>\n",
       "      <td>Blend</td>\n",
       "      <td>Hawaii</td>\n",
       "    </tr>\n",
       "    <tr>\n",
       "      <th>2</th>\n",
       "      <td>Potomac</td>\n",
       "      <td>Upala w/ nibs</td>\n",
       "      <td>647</td>\n",
       "      <td>2011</td>\n",
       "      <td>0.70</td>\n",
       "      <td>USA</td>\n",
       "      <td>3.50</td>\n",
       "      <td>Matina</td>\n",
       "      <td>Costa Rica</td>\n",
       "    </tr>\n",
       "    <tr>\n",
       "      <th>3</th>\n",
       "      <td>Middlebury</td>\n",
       "      <td>Matagalpa, Cacao Bisiesto</td>\n",
       "      <td>1538</td>\n",
       "      <td>2015</td>\n",
       "      <td>0.70</td>\n",
       "      <td>USA</td>\n",
       "      <td>3.50</td>\n",
       "      <td>Criollo, Trinitario</td>\n",
       "      <td>Nicaragua</td>\n",
       "    </tr>\n",
       "    <tr>\n",
       "      <th>4</th>\n",
       "      <td>Carlotta Chocolat</td>\n",
       "      <td>Cesar</td>\n",
       "      <td>1888</td>\n",
       "      <td>2016</td>\n",
       "      <td>0.65</td>\n",
       "      <td>Colombia</td>\n",
       "      <td>3.50</td>\n",
       "      <td>CCN51</td>\n",
       "      <td>Colombia</td>\n",
       "    </tr>\n",
       "  </tbody>\n",
       "</table>\n",
       "</div>"
      ],
      "text/plain": [
       "                     Company                          SpecificBeanOrigin  \\\n",
       "0                   Valrhona                                     Manjari   \n",
       "1  Original Beans (Felchlin)  Grand Cru Blend No.1, 5 yr. Anniversary Ed   \n",
       "2                    Potomac                               Upala w/ nibs   \n",
       "3                 Middlebury                   Matagalpa, Cacao Bisiesto   \n",
       "4          Carlotta Chocolat                                       Cesar   \n",
       "\n",
       "    REF  ReviewDate  CocoaPercent CompanyLocation  Rating  \\\n",
       "0   129        2007          0.64          France    4.00   \n",
       "1  1442        2014          0.80     Switzerland    3.25   \n",
       "2   647        2011          0.70             USA    3.50   \n",
       "3  1538        2015          0.70             USA    3.50   \n",
       "4  1888        2016          0.65        Colombia    3.50   \n",
       "\n",
       "              BeanType BroadBeanOrigin  \n",
       "0  Criollo, Trinitario      Madagascar  \n",
       "1                Blend          Hawaii  \n",
       "2               Matina      Costa Rica  \n",
       "3  Criollo, Trinitario       Nicaragua  \n",
       "4                CCN51        Colombia  "
      ]
     },
     "execution_count": 10,
     "metadata": {},
     "output_type": "execute_result"
    }
   ],
   "source": [
    "#Printing all unique values for column CompanyLocation to check for any discreapancies\n",
    "df['CompanyLocation'].unique()\n",
    "#There are some values with full stops hence removing them\n",
    "df['CompanyLocation'] = df['CompanyLocation'].str.replace('.', '')\n",
    "df.head()"
   ]
  },
  {
   "cell_type": "code",
   "execution_count": 11,
   "metadata": {},
   "outputs": [
    {
     "data": {
      "text/html": [
       "<div>\n",
       "<style scoped>\n",
       "    .dataframe tbody tr th:only-of-type {\n",
       "        vertical-align: middle;\n",
       "    }\n",
       "\n",
       "    .dataframe tbody tr th {\n",
       "        vertical-align: top;\n",
       "    }\n",
       "\n",
       "    .dataframe thead th {\n",
       "        text-align: right;\n",
       "    }\n",
       "</style>\n",
       "<table border=\"1\" class=\"dataframe\">\n",
       "  <thead>\n",
       "    <tr style=\"text-align: right;\">\n",
       "      <th></th>\n",
       "      <th>Company</th>\n",
       "      <th>SpecificBeanOrigin</th>\n",
       "      <th>REF</th>\n",
       "      <th>ReviewDate</th>\n",
       "      <th>CocoaPercent</th>\n",
       "      <th>CompanyLocation</th>\n",
       "      <th>Rating</th>\n",
       "      <th>BeanType</th>\n",
       "      <th>BroadBeanOrigin</th>\n",
       "    </tr>\n",
       "  </thead>\n",
       "  <tbody>\n",
       "    <tr>\n",
       "      <th>0</th>\n",
       "      <td>Valrhona</td>\n",
       "      <td>Manjari</td>\n",
       "      <td>129</td>\n",
       "      <td>2007</td>\n",
       "      <td>0.64</td>\n",
       "      <td>France</td>\n",
       "      <td>4.00</td>\n",
       "      <td>Criollo, Trinitario</td>\n",
       "      <td>Madagascar</td>\n",
       "    </tr>\n",
       "    <tr>\n",
       "      <th>1</th>\n",
       "      <td>Felchlin</td>\n",
       "      <td>Grand Cru Blend No.1, 5 yr. Anniversary Ed</td>\n",
       "      <td>1442</td>\n",
       "      <td>2014</td>\n",
       "      <td>0.80</td>\n",
       "      <td>Switzerland</td>\n",
       "      <td>3.25</td>\n",
       "      <td>Blend</td>\n",
       "      <td>Hawaii</td>\n",
       "    </tr>\n",
       "    <tr>\n",
       "      <th>2</th>\n",
       "      <td>Potomac</td>\n",
       "      <td>Upala w/ nibs</td>\n",
       "      <td>647</td>\n",
       "      <td>2011</td>\n",
       "      <td>0.70</td>\n",
       "      <td>USA</td>\n",
       "      <td>3.50</td>\n",
       "      <td>Matina</td>\n",
       "      <td>Costa Rica</td>\n",
       "    </tr>\n",
       "    <tr>\n",
       "      <th>3</th>\n",
       "      <td>Middlebury</td>\n",
       "      <td>Matagalpa, Cacao Bisiesto</td>\n",
       "      <td>1538</td>\n",
       "      <td>2015</td>\n",
       "      <td>0.70</td>\n",
       "      <td>USA</td>\n",
       "      <td>3.50</td>\n",
       "      <td>Criollo, Trinitario</td>\n",
       "      <td>Nicaragua</td>\n",
       "    </tr>\n",
       "    <tr>\n",
       "      <th>4</th>\n",
       "      <td>Carlotta Chocolat</td>\n",
       "      <td>Cesar</td>\n",
       "      <td>1888</td>\n",
       "      <td>2016</td>\n",
       "      <td>0.65</td>\n",
       "      <td>Colombia</td>\n",
       "      <td>3.50</td>\n",
       "      <td>CCN51</td>\n",
       "      <td>Colombia</td>\n",
       "    </tr>\n",
       "  </tbody>\n",
       "</table>\n",
       "</div>"
      ],
      "text/plain": [
       "             Company                          SpecificBeanOrigin   REF  \\\n",
       "0           Valrhona                                     Manjari   129   \n",
       "1           Felchlin  Grand Cru Blend No.1, 5 yr. Anniversary Ed  1442   \n",
       "2            Potomac                               Upala w/ nibs   647   \n",
       "3         Middlebury                   Matagalpa, Cacao Bisiesto  1538   \n",
       "4  Carlotta Chocolat                                       Cesar  1888   \n",
       "\n",
       "   ReviewDate  CocoaPercent CompanyLocation  Rating             BeanType  \\\n",
       "0        2007          0.64          France    4.00  Criollo, Trinitario   \n",
       "1        2014          0.80     Switzerland    3.25                Blend   \n",
       "2        2011          0.70             USA    3.50               Matina   \n",
       "3        2015          0.70             USA    3.50  Criollo, Trinitario   \n",
       "4        2016          0.65        Colombia    3.50                CCN51   \n",
       "\n",
       "  BroadBeanOrigin  \n",
       "0      Madagascar  \n",
       "1          Hawaii  \n",
       "2      Costa Rica  \n",
       "3       Nicaragua  \n",
       "4        Colombia  "
      ]
     },
     "execution_count": 11,
     "metadata": {},
     "output_type": "execute_result"
    }
   ],
   "source": [
    "#Cleaning column Company as it has makers and melters both names, so replacing the melters names with makers names if known \n",
    "def Clean_Comp(Company): \n",
    "    # Search for opening brackets with aka\n",
    "    if re.search('\\(aka.*', Company):\n",
    "        p = re.search('\\(aka.*', Company).start()+5\n",
    "        p2 = re.search('.*\\)', Company).end()-1\n",
    "        return Company[p:p2]\n",
    "    \n",
    "    # Search for opening brackets\n",
    "    elif re.search('\\(.*', Company): \n",
    "        pos = re.search('\\(.*', Company).start()+1\n",
    "        pos2 = re.search('.*\\)', Company).end()-1\n",
    "        return Company[pos:pos2] \n",
    "  \n",
    "    else: \n",
    "       \n",
    "        return Company \n",
    "\n",
    "df['Company'] = df['Company'].apply(Clean_Comp) \n",
    "  \n",
    "# Print the updated dataframe \n",
    "df.head()"
   ]
  },
  {
   "cell_type": "code",
   "execution_count": 12,
   "metadata": {},
   "outputs": [],
   "source": [
    "#Creating a dictionary and index match it to the dataframe by creating a new column called “BeanTypeVariety” \n",
    "#based on the rules below which are resulted from a thorough research on BeanType:\n",
    "\n",
    "#Forastero if exact; matches ‘Amazon’; is ‘Beniano’, ‘Nacional’; or ‘Nacional (Arriba)’; \n",
    "#or specifies the subspecies ‘Amelonado’, ‘Arriba’, ‘Catongo’, ‘Nacional’, or ‘Parazinho’.\n",
    "#Criollo if exact; or specifies the subspecies ‘Amarru’, ‘Porcelana’ or ‘Wild’.\n",
    "#Trinatario if exact; is ‘Trinitario, TCGA’; or specifies the subspecies ‘Amelonado’ or ‘Scavina’.\n",
    "#blend if matches ‘blend’; or mixes any of the three main varieties.\n",
    "#hybrid if is ‘Matina’ or EET’; or matches ‘CCN’ or ‘Ocumare’\n",
    "\n",
    "dict_type = {'Amazon':'Forastero', \n",
    "                  'Amazon mix':'Forastero',\n",
    "                  'Amazon, ICS':'Forastero',\n",
    "                  'Beniano':'Forastero',\n",
    "                  'Blend':'blend',\n",
    "                  'Blend-Forastero,Criollo':'blend',\n",
    "                  'CCN51':'hybrid',\n",
    "                  'Criollo':'Criollo',\n",
    "                  'Criollo (Amarru)':'Criollo',\n",
    "                  'Criollo (Ocumare 61)':'hybrid',\n",
    "                  'Criollo (Ocumare 67)':'hybrid',\n",
    "                  'Criollo (Ocumare 77)':'hybrid',\n",
    "                  'Criollo (Ocumare)':'hybrid',\n",
    "                  'Criollo (Porcelana)':'Criollo',\n",
    "                  'Criollo (Wild)':'Criollo',\n",
    "                  'Criollo, +':'Criollo',\n",
    "                  'Criollo, Forastero':'blend',\n",
    "                  'Criollo, Trinitario':'blend',\n",
    "                  'EET':'hybrid',\n",
    "                  'Forastero':'Forastero',\n",
    "                  'Forastero (Amelonado)':'Forastero',\n",
    "                  'Forastero (Arriba)':'Forastero',\n",
    "                  'Forastero (Arriba) ASS':'Forastero',\n",
    "                  'Forastero (Arriba) ASSS':'Forastero',\n",
    "                  'Forastero (Catongo)':'Forastero',\n",
    "                  'Forastero (Nacional)':'Forastero',\n",
    "                  'Forastero (Parazinho)':'Forastero',\n",
    "                  'Forastero(Arriba, CCN)':'hybrid',\n",
    "                  'Forastero, Trinitario':'blend',\n",
    "                  'Matina':'hybrid',\n",
    "                  'Nacional':'Forastero',\n",
    "                  'Nacional (Arriba)':'Forastero',\n",
    "                  'Trinitario':'Trinitario',\n",
    "                  'Trinitario (85% Criollo)':'blend',\n",
    "                  'Trinitario (Amelonado)':'Trinitario',\n",
    "                  'Trinitario (Scavina)':'Trinitario',\n",
    "                  'Trinitario, Criollo':'blend',\n",
    "                  'Trinitario, Forastero':'blend',\n",
    "                  'Trinitario, Nacional':'blend',\n",
    "                  'Trinitario, TCGA':'Trinitario',\n",
    "                  'blend':'blend'}\n",
    "#Inserting the column in df\n",
    "df.insert(8, 'BeanTypeVariety', df['BeanType'].map(dict_type))"
   ]
  },
  {
   "cell_type": "code",
   "execution_count": 13,
   "metadata": {},
   "outputs": [
    {
     "name": "stderr",
     "output_type": "stream",
     "text": [
      "E:\\Anaconda\\lib\\site-packages\\pandas\\core\\indexing.py:190: SettingWithCopyWarning:\n",
      "\n",
      "\n",
      "A value is trying to be set on a copy of a slice from a DataFrame\n",
      "\n",
      "See the caveats in the documentation: http://pandas.pydata.org/pandas-docs/stable/indexing.html#indexing-view-versus-copy\n",
      "\n"
     ]
    }
   ],
   "source": [
    "#Creating a new column BroadBeanOrigin as original BroadBeanOrigin column has multiple country names for one value \n",
    "#Replacing value with multiple if more than 1 country name\n",
    "df['BroadBeanOriginModified'] = df['BroadBeanOrigin']\n",
    "#Removing &, and from values and replacing those values with multipe\n",
    "i=0\n",
    "while i < len(df['BroadBeanOriginModified']):\n",
    "    if (','or'and'or'&'or'/'or'-') in df['BroadBeanOriginModified'].loc[i]:\n",
    "        df['BroadBeanOriginModified'].loc[i] = 'Multiple'\n",
    "    i+=1 \n",
    "df['BroadBeanOriginModified'] = df['BroadBeanOriginModified'].map(lambda x: re.sub(r'\\&+and','',x))\n"
   ]
  },
  {
   "cell_type": "code",
   "execution_count": 14,
   "metadata": {},
   "outputs": [
    {
     "data": {
      "text/html": [
       "<div>\n",
       "<style scoped>\n",
       "    .dataframe tbody tr th:only-of-type {\n",
       "        vertical-align: middle;\n",
       "    }\n",
       "\n",
       "    .dataframe tbody tr th {\n",
       "        vertical-align: top;\n",
       "    }\n",
       "\n",
       "    .dataframe thead th {\n",
       "        text-align: right;\n",
       "    }\n",
       "</style>\n",
       "<table border=\"1\" class=\"dataframe\">\n",
       "  <thead>\n",
       "    <tr style=\"text-align: right;\">\n",
       "      <th></th>\n",
       "      <th>Company</th>\n",
       "      <th>SpecificBeanOrigin</th>\n",
       "      <th>SpecificBeanOriginCleaned</th>\n",
       "      <th>REF</th>\n",
       "      <th>ReviewDate</th>\n",
       "      <th>CocoaPercent</th>\n",
       "      <th>CompanyLocation</th>\n",
       "      <th>Rating</th>\n",
       "      <th>BeanType</th>\n",
       "      <th>BeanTypeVariety</th>\n",
       "      <th>BroadBeanOrigin</th>\n",
       "      <th>BroadBeanOriginModified</th>\n",
       "    </tr>\n",
       "  </thead>\n",
       "  <tbody>\n",
       "    <tr>\n",
       "      <th>0</th>\n",
       "      <td>Valrhona</td>\n",
       "      <td>Manjari</td>\n",
       "      <td>Manjari</td>\n",
       "      <td>129</td>\n",
       "      <td>2007</td>\n",
       "      <td>0.64</td>\n",
       "      <td>France</td>\n",
       "      <td>4.00</td>\n",
       "      <td>Criollo, Trinitario</td>\n",
       "      <td>blend</td>\n",
       "      <td>Madagascar</td>\n",
       "      <td>Madagascar</td>\n",
       "    </tr>\n",
       "    <tr>\n",
       "      <th>1</th>\n",
       "      <td>Felchlin</td>\n",
       "      <td>Grand Cru Blend No.1, 5 yr. Anniversary Ed</td>\n",
       "      <td>Grand Cru Blend No</td>\n",
       "      <td>1442</td>\n",
       "      <td>2014</td>\n",
       "      <td>0.80</td>\n",
       "      <td>Switzerland</td>\n",
       "      <td>3.25</td>\n",
       "      <td>Blend</td>\n",
       "      <td>blend</td>\n",
       "      <td>Hawaii</td>\n",
       "      <td>Hawaii</td>\n",
       "    </tr>\n",
       "    <tr>\n",
       "      <th>2</th>\n",
       "      <td>Potomac</td>\n",
       "      <td>Upala w/ nibs</td>\n",
       "      <td>Upala w  nibs</td>\n",
       "      <td>647</td>\n",
       "      <td>2011</td>\n",
       "      <td>0.70</td>\n",
       "      <td>USA</td>\n",
       "      <td>3.50</td>\n",
       "      <td>Matina</td>\n",
       "      <td>hybrid</td>\n",
       "      <td>Costa Rica</td>\n",
       "      <td>Costa Rica</td>\n",
       "    </tr>\n",
       "    <tr>\n",
       "      <th>3</th>\n",
       "      <td>Middlebury</td>\n",
       "      <td>Matagalpa, Cacao Bisiesto</td>\n",
       "      <td>Matagalpa</td>\n",
       "      <td>1538</td>\n",
       "      <td>2015</td>\n",
       "      <td>0.70</td>\n",
       "      <td>USA</td>\n",
       "      <td>3.50</td>\n",
       "      <td>Criollo, Trinitario</td>\n",
       "      <td>blend</td>\n",
       "      <td>Nicaragua</td>\n",
       "      <td>Nicaragua</td>\n",
       "    </tr>\n",
       "    <tr>\n",
       "      <th>4</th>\n",
       "      <td>Carlotta Chocolat</td>\n",
       "      <td>Cesar</td>\n",
       "      <td>Cesar</td>\n",
       "      <td>1888</td>\n",
       "      <td>2016</td>\n",
       "      <td>0.65</td>\n",
       "      <td>Colombia</td>\n",
       "      <td>3.50</td>\n",
       "      <td>CCN51</td>\n",
       "      <td>hybrid</td>\n",
       "      <td>Colombia</td>\n",
       "      <td>Colombia</td>\n",
       "    </tr>\n",
       "  </tbody>\n",
       "</table>\n",
       "</div>"
      ],
      "text/plain": [
       "             Company                          SpecificBeanOrigin  \\\n",
       "0           Valrhona                                     Manjari   \n",
       "1           Felchlin  Grand Cru Blend No.1, 5 yr. Anniversary Ed   \n",
       "2            Potomac                               Upala w/ nibs   \n",
       "3         Middlebury                   Matagalpa, Cacao Bisiesto   \n",
       "4  Carlotta Chocolat                                       Cesar   \n",
       "\n",
       "  SpecificBeanOriginCleaned   REF  ReviewDate  CocoaPercent CompanyLocation  \\\n",
       "0                   Manjari   129        2007          0.64          France   \n",
       "1        Grand Cru Blend No  1442        2014          0.80     Switzerland   \n",
       "2             Upala w  nibs   647        2011          0.70             USA   \n",
       "3                 Matagalpa  1538        2015          0.70             USA   \n",
       "4                     Cesar  1888        2016          0.65        Colombia   \n",
       "\n",
       "   Rating             BeanType BeanTypeVariety BroadBeanOrigin  \\\n",
       "0    4.00  Criollo, Trinitario           blend      Madagascar   \n",
       "1    3.25                Blend           blend          Hawaii   \n",
       "2    3.50               Matina          hybrid      Costa Rica   \n",
       "3    3.50  Criollo, Trinitario           blend       Nicaragua   \n",
       "4    3.50                CCN51          hybrid        Colombia   \n",
       "\n",
       "  BroadBeanOriginModified  \n",
       "0              Madagascar  \n",
       "1                  Hawaii  \n",
       "2              Costa Rica  \n",
       "3               Nicaragua  \n",
       "4                Colombia  "
      ]
     },
     "execution_count": 14,
     "metadata": {},
     "output_type": "execute_result"
    }
   ],
   "source": [
    "#Creating a new column SpecificBeanOriginModified\n",
    "#Removing special characters in string and removing unnecessary information by splitting through first comma(,)\n",
    "df.insert(2, 'SpecificBeanOriginCleaned', df['SpecificBeanOrigin'].str.split(',').str[0])\n",
    "df['SpecificBeanOriginCleaned'] = df['SpecificBeanOriginCleaned'].str.replace(r\"[^a-zA-Z ]+\", \" \").str.strip()\n",
    "#Printing Updated Dataframe\n",
    "df.head()"
   ]
  },
  {
   "cell_type": "code",
   "execution_count": 15,
   "metadata": {},
   "outputs": [
    {
     "data": {
      "text/html": [
       "<div>\n",
       "<style scoped>\n",
       "    .dataframe tbody tr th:only-of-type {\n",
       "        vertical-align: middle;\n",
       "    }\n",
       "\n",
       "    .dataframe tbody tr th {\n",
       "        vertical-align: top;\n",
       "    }\n",
       "\n",
       "    .dataframe thead th {\n",
       "        text-align: right;\n",
       "    }\n",
       "</style>\n",
       "<table border=\"1\" class=\"dataframe\">\n",
       "  <thead>\n",
       "    <tr style=\"text-align: right;\">\n",
       "      <th></th>\n",
       "      <th>Company</th>\n",
       "      <th>SpecificBeanOrigin</th>\n",
       "      <th>SpecificBeanOriginCleaned</th>\n",
       "      <th>REF</th>\n",
       "      <th>ReviewDate</th>\n",
       "      <th>CocoaPercent</th>\n",
       "      <th>CompanyLocation</th>\n",
       "      <th>Rating</th>\n",
       "      <th>BeanType</th>\n",
       "      <th>BeanTypeVariety</th>\n",
       "      <th>BroadBeanOrigin</th>\n",
       "      <th>BroadBeanOriginModified</th>\n",
       "    </tr>\n",
       "  </thead>\n",
       "  <tbody>\n",
       "    <tr>\n",
       "      <th>0</th>\n",
       "      <td>Valrhona</td>\n",
       "      <td>Manjari</td>\n",
       "      <td>Manjari</td>\n",
       "      <td>129</td>\n",
       "      <td>2007</td>\n",
       "      <td>0.64</td>\n",
       "      <td>France</td>\n",
       "      <td>4.00</td>\n",
       "      <td>Criollo, Trinitario</td>\n",
       "      <td>blend</td>\n",
       "      <td>Madagascar</td>\n",
       "      <td>Madagascar</td>\n",
       "    </tr>\n",
       "    <tr>\n",
       "      <th>1</th>\n",
       "      <td>Felchlin</td>\n",
       "      <td>Grand Cru Blend No.1, 5 yr. Anniversary Ed</td>\n",
       "      <td>Grand Cru Blend No</td>\n",
       "      <td>1442</td>\n",
       "      <td>2014</td>\n",
       "      <td>0.80</td>\n",
       "      <td>Switzerland</td>\n",
       "      <td>3.25</td>\n",
       "      <td>Blend</td>\n",
       "      <td>blend</td>\n",
       "      <td>Hawaii</td>\n",
       "      <td>Hawaii</td>\n",
       "    </tr>\n",
       "    <tr>\n",
       "      <th>2</th>\n",
       "      <td>Potomac</td>\n",
       "      <td>Upala w/ nibs</td>\n",
       "      <td>Upala w  nibs</td>\n",
       "      <td>647</td>\n",
       "      <td>2011</td>\n",
       "      <td>0.70</td>\n",
       "      <td>USA</td>\n",
       "      <td>3.50</td>\n",
       "      <td>Matina</td>\n",
       "      <td>hybrid</td>\n",
       "      <td>Costa Rica</td>\n",
       "      <td>Costa Rica</td>\n",
       "    </tr>\n",
       "    <tr>\n",
       "      <th>3</th>\n",
       "      <td>Middlebury</td>\n",
       "      <td>Matagalpa, Cacao Bisiesto</td>\n",
       "      <td>Matagalpa</td>\n",
       "      <td>1538</td>\n",
       "      <td>2015</td>\n",
       "      <td>0.70</td>\n",
       "      <td>USA</td>\n",
       "      <td>3.50</td>\n",
       "      <td>Criollo, Trinitario</td>\n",
       "      <td>blend</td>\n",
       "      <td>Nicaragua</td>\n",
       "      <td>Nicaragua</td>\n",
       "    </tr>\n",
       "    <tr>\n",
       "      <th>4</th>\n",
       "      <td>Carlotta Chocolat</td>\n",
       "      <td>Cesar</td>\n",
       "      <td>Cesar</td>\n",
       "      <td>1888</td>\n",
       "      <td>2016</td>\n",
       "      <td>0.65</td>\n",
       "      <td>Colombia</td>\n",
       "      <td>3.50</td>\n",
       "      <td>CCN51</td>\n",
       "      <td>hybrid</td>\n",
       "      <td>Colombia</td>\n",
       "      <td>Colombia</td>\n",
       "    </tr>\n",
       "  </tbody>\n",
       "</table>\n",
       "</div>"
      ],
      "text/plain": [
       "             Company                          SpecificBeanOrigin  \\\n",
       "0           Valrhona                                     Manjari   \n",
       "1           Felchlin  Grand Cru Blend No.1, 5 yr. Anniversary Ed   \n",
       "2            Potomac                               Upala w/ nibs   \n",
       "3         Middlebury                   Matagalpa, Cacao Bisiesto   \n",
       "4  Carlotta Chocolat                                       Cesar   \n",
       "\n",
       "  SpecificBeanOriginCleaned   REF  ReviewDate  CocoaPercent CompanyLocation  \\\n",
       "0                   Manjari   129        2007          0.64          France   \n",
       "1        Grand Cru Blend No  1442        2014          0.80     Switzerland   \n",
       "2             Upala w  nibs   647        2011          0.70             USA   \n",
       "3                 Matagalpa  1538        2015          0.70             USA   \n",
       "4                     Cesar  1888        2016          0.65        Colombia   \n",
       "\n",
       "   Rating             BeanType BeanTypeVariety BroadBeanOrigin  \\\n",
       "0    4.00  Criollo, Trinitario           blend      Madagascar   \n",
       "1    3.25                Blend           blend          Hawaii   \n",
       "2    3.50               Matina          hybrid      Costa Rica   \n",
       "3    3.50  Criollo, Trinitario           blend       Nicaragua   \n",
       "4    3.50                CCN51          hybrid        Colombia   \n",
       "\n",
       "  BroadBeanOriginModified  \n",
       "0              Madagascar  \n",
       "1                  Hawaii  \n",
       "2              Costa Rica  \n",
       "3               Nicaragua  \n",
       "4                Colombia  "
      ]
     },
     "execution_count": 15,
     "metadata": {},
     "output_type": "execute_result"
    }
   ],
   "source": [
    "#Printing the final dataframe after data preparation\n",
    "df.head()"
   ]
  },
  {
   "cell_type": "markdown",
   "metadata": {},
   "source": [
    "<h2>2- Learning Type of the problem:<br><br>\n",
    "&nbsp;&nbsp;&nbsp;&nbsp;&nbsp;&nbsp;&nbsp;&nbsp;&nbsp;&nbsp;&nbsp;&nbsp;&nbsp;&nbsp; - It is a supervised learning. Solving it as a Classification Problem.</h2>"
   ]
  },
  {
   "cell_type": "code",
   "execution_count": 16,
   "metadata": {},
   "outputs": [],
   "source": [
    "#Solving this as a classifcation problem so using cut() for rating column and creating bins\n",
    "#Rating 5 has only 2 samples so putting that in 4, as gridsearch will use 3 folds, so minimum samples needed are 3\n",
    "cut_labels = ['1', '2', '3', '4']\n",
    "cut_bins = [0, 1.999, 2.999, 3.999, 5]\n",
    "#Creating new column cut_rating which has binned values for rating\n",
    "df['cut_rating'] = pd.cut(df['Rating'], bins=cut_bins, labels=cut_labels)"
   ]
  },
  {
   "cell_type": "markdown",
   "metadata": {},
   "source": [
    "<h2>3- Three learning algorithms and their hyperparamenters with possible values for tuning:</h2>\n",
    "<h5>&nbsp;&nbsp;&nbsp;&nbsp;&nbsp;&nbsp;&nbsp;&nbsp;&nbsp;&nbsp;DecisionTreeClassifier - max_depth=[1,3,5], min_samples_split = [2,5,7], min_samples_leaf = [10,20,30]</h5>\n",
    "<h5>&nbsp;&nbsp;&nbsp;&nbsp;&nbsp;&nbsp;&nbsp;&nbsp;&nbsp;&nbsp;KNeighborsClassifier - n_neighbors = [25,27,29,30], leaf_size = [1,3,5], p=[1,2]</h5>\n",
    "<h5>&nbsp;&nbsp;&nbsp;&nbsp;&nbsp;&nbsp;&nbsp;&nbsp;&nbsp;RandomForestClassifier - n_estimators= [1,3,5,7,10], max_depth=[1,3,5,7,9], min_samples_split = [2, 5,7,9], min_samples_leaf = [1, 2, 4]</h5>"
   ]
  },
  {
   "cell_type": "code",
   "execution_count": 17,
   "metadata": {
    "scrolled": true
   },
   "outputs": [],
   "source": [
    "# Calculating Corelation Cofficient for feature selection \n",
    "#df[\"Company\"] =df[\"Company\"].astype('category').cat.codes\n",
    "#df['SpecificBeanOrigin'] =df['SpecificBeanOrigin'].astype('category').cat.codes\n",
    "#df['CocoaPercent'] =df['CocoaPercent'].astype('category').cat.codes\n",
    "#df['CompanyLocation'] =df['CompanyLocation'].astype('category').cat.codes\n",
    "#df['BeanType'] =df['BeanType'].astype('category').cat.codes\n",
    "#df['SpecificBeanOriginCleaned'] =df['SpecificBeanOriginCleaned'].astype('category').cat.codes\n",
    "#df['BeanTypeVariety'] =df['BeanTypeVariety'].astype('category').cat.codes\n",
    "#df['BroadBeanOrigin'] =df['BroadBeanOrigin'].astype('category').cat.codes\n",
    "#df['cut_rating'] =df['cut_rating'].astype('category').cat.codes\n",
    "#df['BroadBeanOriginModified'] =df['BroadBeanOriginModified'].astype('category').cat.codes\n",
    "#a = df[df.columns[0:]].corr()['cut_rating'][:]\n",
    "#Sorting in ascending after applyinga bsolute \n",
    "#abs(a).sort_values(ascending=False)"
   ]
  },
  {
   "cell_type": "code",
   "execution_count": 18,
   "metadata": {},
   "outputs": [],
   "source": [
    "#Explanation for feature selection\n",
    "#BroadBeanOrigin              1.000000\n",
    "#BroadBeanOriginModified      0.982772\n",
    "#The correlation cofficient between these two is 98% thats why using only one for modelling the modified one.\n",
    "#SpecificBeanOrigin           1.000000\n",
    "#SpecificBeanOriginCleaned    0.990193\n",
    "#The correlation cofficient between these two is 99% thats why using only one for modelling the modified one."
   ]
  },
  {
   "cell_type": "code",
   "execution_count": 19,
   "metadata": {},
   "outputs": [
    {
     "data": {
      "text/html": [
       "<div>\n",
       "<style scoped>\n",
       "    .dataframe tbody tr th:only-of-type {\n",
       "        vertical-align: middle;\n",
       "    }\n",
       "\n",
       "    .dataframe tbody tr th {\n",
       "        vertical-align: top;\n",
       "    }\n",
       "\n",
       "    .dataframe thead th {\n",
       "        text-align: right;\n",
       "    }\n",
       "</style>\n",
       "<table border=\"1\" class=\"dataframe\">\n",
       "  <thead>\n",
       "    <tr style=\"text-align: right;\">\n",
       "      <th></th>\n",
       "      <th>Company</th>\n",
       "      <th>SpecificBeanOrigin</th>\n",
       "      <th>SpecificBeanOriginCleaned</th>\n",
       "      <th>REF</th>\n",
       "      <th>ReviewDate</th>\n",
       "      <th>CocoaPercent</th>\n",
       "      <th>CompanyLocation</th>\n",
       "      <th>Rating</th>\n",
       "      <th>BeanType</th>\n",
       "      <th>BeanTypeVariety</th>\n",
       "      <th>...</th>\n",
       "      <th>BroadBeanOrg_Ven., Trinidad, Mad.</th>\n",
       "      <th>BroadBeanOrg_Ven.,Ecu.,Peru,Nic.</th>\n",
       "      <th>BroadBeanOrg_Venez,Africa,Brasil,Peru,Mex</th>\n",
       "      <th>BroadBeanOrg_Venezuela</th>\n",
       "      <th>BroadBeanOrg_Venezuela, Dom. Rep.</th>\n",
       "      <th>BroadBeanOrg_Venezuela, Ghana</th>\n",
       "      <th>BroadBeanOrg_Venezuela, Java</th>\n",
       "      <th>BroadBeanOrg_Venezuela, Trinidad</th>\n",
       "      <th>BroadBeanOrg_Vietnam</th>\n",
       "      <th>BroadBeanOrg_West Africa</th>\n",
       "    </tr>\n",
       "  </thead>\n",
       "  <tbody>\n",
       "    <tr>\n",
       "      <th>0</th>\n",
       "      <td>Valrhona</td>\n",
       "      <td>Manjari</td>\n",
       "      <td>Manjari</td>\n",
       "      <td>129</td>\n",
       "      <td>2007</td>\n",
       "      <td>0.64</td>\n",
       "      <td>France</td>\n",
       "      <td>4.00</td>\n",
       "      <td>Criollo, Trinitario</td>\n",
       "      <td>blend</td>\n",
       "      <td>...</td>\n",
       "      <td>0</td>\n",
       "      <td>0</td>\n",
       "      <td>0</td>\n",
       "      <td>0</td>\n",
       "      <td>0</td>\n",
       "      <td>0</td>\n",
       "      <td>0</td>\n",
       "      <td>0</td>\n",
       "      <td>0</td>\n",
       "      <td>0</td>\n",
       "    </tr>\n",
       "    <tr>\n",
       "      <th>1</th>\n",
       "      <td>Felchlin</td>\n",
       "      <td>Grand Cru Blend No.1, 5 yr. Anniversary Ed</td>\n",
       "      <td>Grand Cru Blend No</td>\n",
       "      <td>1442</td>\n",
       "      <td>2014</td>\n",
       "      <td>0.80</td>\n",
       "      <td>Switzerland</td>\n",
       "      <td>3.25</td>\n",
       "      <td>Blend</td>\n",
       "      <td>blend</td>\n",
       "      <td>...</td>\n",
       "      <td>0</td>\n",
       "      <td>0</td>\n",
       "      <td>0</td>\n",
       "      <td>0</td>\n",
       "      <td>0</td>\n",
       "      <td>0</td>\n",
       "      <td>0</td>\n",
       "      <td>0</td>\n",
       "      <td>0</td>\n",
       "      <td>0</td>\n",
       "    </tr>\n",
       "    <tr>\n",
       "      <th>2</th>\n",
       "      <td>Potomac</td>\n",
       "      <td>Upala w/ nibs</td>\n",
       "      <td>Upala w  nibs</td>\n",
       "      <td>647</td>\n",
       "      <td>2011</td>\n",
       "      <td>0.70</td>\n",
       "      <td>USA</td>\n",
       "      <td>3.50</td>\n",
       "      <td>Matina</td>\n",
       "      <td>hybrid</td>\n",
       "      <td>...</td>\n",
       "      <td>0</td>\n",
       "      <td>0</td>\n",
       "      <td>0</td>\n",
       "      <td>0</td>\n",
       "      <td>0</td>\n",
       "      <td>0</td>\n",
       "      <td>0</td>\n",
       "      <td>0</td>\n",
       "      <td>0</td>\n",
       "      <td>0</td>\n",
       "    </tr>\n",
       "    <tr>\n",
       "      <th>3</th>\n",
       "      <td>Middlebury</td>\n",
       "      <td>Matagalpa, Cacao Bisiesto</td>\n",
       "      <td>Matagalpa</td>\n",
       "      <td>1538</td>\n",
       "      <td>2015</td>\n",
       "      <td>0.70</td>\n",
       "      <td>USA</td>\n",
       "      <td>3.50</td>\n",
       "      <td>Criollo, Trinitario</td>\n",
       "      <td>blend</td>\n",
       "      <td>...</td>\n",
       "      <td>0</td>\n",
       "      <td>0</td>\n",
       "      <td>0</td>\n",
       "      <td>0</td>\n",
       "      <td>0</td>\n",
       "      <td>0</td>\n",
       "      <td>0</td>\n",
       "      <td>0</td>\n",
       "      <td>0</td>\n",
       "      <td>0</td>\n",
       "    </tr>\n",
       "    <tr>\n",
       "      <th>4</th>\n",
       "      <td>Carlotta Chocolat</td>\n",
       "      <td>Cesar</td>\n",
       "      <td>Cesar</td>\n",
       "      <td>1888</td>\n",
       "      <td>2016</td>\n",
       "      <td>0.65</td>\n",
       "      <td>Colombia</td>\n",
       "      <td>3.50</td>\n",
       "      <td>CCN51</td>\n",
       "      <td>hybrid</td>\n",
       "      <td>...</td>\n",
       "      <td>0</td>\n",
       "      <td>0</td>\n",
       "      <td>0</td>\n",
       "      <td>0</td>\n",
       "      <td>0</td>\n",
       "      <td>0</td>\n",
       "      <td>0</td>\n",
       "      <td>0</td>\n",
       "      <td>0</td>\n",
       "      <td>0</td>\n",
       "    </tr>\n",
       "  </tbody>\n",
       "</table>\n",
       "<p>5 rows × 762 columns</p>\n",
       "</div>"
      ],
      "text/plain": [
       "             Company                          SpecificBeanOrigin  \\\n",
       "0           Valrhona                                     Manjari   \n",
       "1           Felchlin  Grand Cru Blend No.1, 5 yr. Anniversary Ed   \n",
       "2            Potomac                               Upala w/ nibs   \n",
       "3         Middlebury                   Matagalpa, Cacao Bisiesto   \n",
       "4  Carlotta Chocolat                                       Cesar   \n",
       "\n",
       "  SpecificBeanOriginCleaned   REF  ReviewDate  CocoaPercent CompanyLocation  \\\n",
       "0                   Manjari   129        2007          0.64          France   \n",
       "1        Grand Cru Blend No  1442        2014          0.80     Switzerland   \n",
       "2             Upala w  nibs   647        2011          0.70             USA   \n",
       "3                 Matagalpa  1538        2015          0.70             USA   \n",
       "4                     Cesar  1888        2016          0.65        Colombia   \n",
       "\n",
       "   Rating             BeanType BeanTypeVariety  ...  \\\n",
       "0    4.00  Criollo, Trinitario           blend  ...   \n",
       "1    3.25                Blend           blend  ...   \n",
       "2    3.50               Matina          hybrid  ...   \n",
       "3    3.50  Criollo, Trinitario           blend  ...   \n",
       "4    3.50                CCN51          hybrid  ...   \n",
       "\n",
       "  BroadBeanOrg_Ven., Trinidad, Mad. BroadBeanOrg_Ven.,Ecu.,Peru,Nic.  \\\n",
       "0                                 0                                0   \n",
       "1                                 0                                0   \n",
       "2                                 0                                0   \n",
       "3                                 0                                0   \n",
       "4                                 0                                0   \n",
       "\n",
       "  BroadBeanOrg_Venez,Africa,Brasil,Peru,Mex  BroadBeanOrg_Venezuela  \\\n",
       "0                                         0                       0   \n",
       "1                                         0                       0   \n",
       "2                                         0                       0   \n",
       "3                                         0                       0   \n",
       "4                                         0                       0   \n",
       "\n",
       "   BroadBeanOrg_Venezuela, Dom. Rep.  BroadBeanOrg_Venezuela, Ghana  \\\n",
       "0                                  0                              0   \n",
       "1                                  0                              0   \n",
       "2                                  0                              0   \n",
       "3                                  0                              0   \n",
       "4                                  0                              0   \n",
       "\n",
       "   BroadBeanOrg_Venezuela, Java  BroadBeanOrg_Venezuela, Trinidad  \\\n",
       "0                             0                                 0   \n",
       "1                             0                                 0   \n",
       "2                             0                                 0   \n",
       "3                             0                                 0   \n",
       "4                             0                                 0   \n",
       "\n",
       "   BroadBeanOrg_Vietnam  BroadBeanOrg_West Africa  \n",
       "0                     0                         0  \n",
       "1                     0                         0  \n",
       "2                     0                         0  \n",
       "3                     0                         0  \n",
       "4                     0                         0  \n",
       "\n",
       "[5 rows x 762 columns]"
      ]
     },
     "execution_count": 19,
     "metadata": {},
     "output_type": "execute_result"
    }
   ],
   "source": [
    "#Creating a seperate Dataframe for X which has model feautures\n",
    "df_X = df.copy()\n",
    "\n",
    "#Creating Dummy Variables since a prediction model cannot work with categorical variables\n",
    "\n",
    "#Creating Dummy Variable for SpecificBeanOriginCleaned\n",
    "dummy_SpecBeanOrgCleaned = pd.get_dummies(df['SpecificBeanOriginCleaned'], prefix=\"Spec_Bean_Org\")\n",
    "df_X = pd.concat([df_X,dummy_SpecBeanOrgCleaned], axis = 1)\n",
    "\n",
    "#Creating Dummy Variable for BeanTypeVariety\n",
    "dummy_BeanTypeVariety = pd.get_dummies(df['BeanTypeVariety'], prefix=\"BeanTypVar\")\n",
    "df_X = pd.concat([df_X,dummy_BeanTypeVariety], axis = 1)\n",
    "\n",
    "#Creating Dummy Variable for CompanyLocation\n",
    "dummy_ComLoc = pd.get_dummies(df['CompanyLocation'], prefix=\"Com_Loc\")\n",
    "df_X = pd.concat([df_X,dummy_ComLoc], axis = 1)\n",
    "\n",
    "#Creating Dummy Variable for BroadBeanOrigin\n",
    "dummy_BroadBeanOrigin = pd.get_dummies(df['BroadBeanOrigin'], prefix=\"BroadBeanOrg\")\n",
    "df_X = pd.concat([df_X,dummy_BroadBeanOrigin], axis = 1)\n",
    "\n",
    "df_X.head()"
   ]
  },
  {
   "cell_type": "markdown",
   "metadata": {},
   "source": [
    "<h2>4- Code for data partitioning. Printing the training data and the test data.</h2>"
   ]
  },
  {
   "cell_type": "code",
   "execution_count": 20,
   "metadata": {
    "tags": [
     "BroadBeanOriginModified",
     "1.000000",
     "BroadBeanOrigin",
     "0.982772"
    ]
   },
   "outputs": [],
   "source": [
    "#Dropping the redundant columns\n",
    "df_X = df_X.drop(['ReviewDate','SpecificBeanOrigin', 'SpecificBeanOriginCleaned','BroadBeanOrigin','BroadBeanOriginModified', 'Rating','BeanTypeVariety','BeanType', 'CompanyLocation','Company','cut_rating'], axis=1)\n",
    "\n",
    "X= df_X\n",
    "\n",
    "#Initializing Target Label as y\n",
    "y=df.cut_rating\n",
    "\n",
    "#Importing train_test_split\n",
    "from sklearn.model_selection import train_test_split\n",
    "\n",
    "#Train_test_split Suite for 70:30\n",
    "X_train, X_test, y_train, y_test = train_test_split(X,y,test_size=0.3, random_state=76543)\n",
    "\n"
   ]
  },
  {
   "cell_type": "code",
   "execution_count": 21,
   "metadata": {},
   "outputs": [
    {
     "data": {
      "text/html": [
       "<div>\n",
       "<style scoped>\n",
       "    .dataframe tbody tr th:only-of-type {\n",
       "        vertical-align: middle;\n",
       "    }\n",
       "\n",
       "    .dataframe tbody tr th {\n",
       "        vertical-align: top;\n",
       "    }\n",
       "\n",
       "    .dataframe thead th {\n",
       "        text-align: right;\n",
       "    }\n",
       "</style>\n",
       "<table border=\"1\" class=\"dataframe\">\n",
       "  <thead>\n",
       "    <tr style=\"text-align: right;\">\n",
       "      <th></th>\n",
       "      <th>REF</th>\n",
       "      <th>CocoaPercent</th>\n",
       "      <th>Spec_Bean_Org_A case of the Xerces Blues</th>\n",
       "      <th>Spec_Bean_Org_ABOCFA Coop</th>\n",
       "      <th>Spec_Bean_Org_Abstract S  w  Jamaica nibs</th>\n",
       "      <th>Spec_Bean_Org_Acarigua</th>\n",
       "      <th>Spec_Bean_Org_Acopagro</th>\n",
       "      <th>Spec_Bean_Org_Acul du Nord</th>\n",
       "      <th>Spec_Bean_Org_Africa</th>\n",
       "      <th>Spec_Bean_Org_AgroCriso Plantation</th>\n",
       "      <th>...</th>\n",
       "      <th>BroadBeanOrg_Ven., Trinidad, Mad.</th>\n",
       "      <th>BroadBeanOrg_Ven.,Ecu.,Peru,Nic.</th>\n",
       "      <th>BroadBeanOrg_Venez,Africa,Brasil,Peru,Mex</th>\n",
       "      <th>BroadBeanOrg_Venezuela</th>\n",
       "      <th>BroadBeanOrg_Venezuela, Dom. Rep.</th>\n",
       "      <th>BroadBeanOrg_Venezuela, Ghana</th>\n",
       "      <th>BroadBeanOrg_Venezuela, Java</th>\n",
       "      <th>BroadBeanOrg_Venezuela, Trinidad</th>\n",
       "      <th>BroadBeanOrg_Vietnam</th>\n",
       "      <th>BroadBeanOrg_West Africa</th>\n",
       "    </tr>\n",
       "  </thead>\n",
       "  <tbody>\n",
       "    <tr>\n",
       "      <th>1213</th>\n",
       "      <td>1311</td>\n",
       "      <td>0.70</td>\n",
       "      <td>0</td>\n",
       "      <td>0</td>\n",
       "      <td>0</td>\n",
       "      <td>0</td>\n",
       "      <td>0</td>\n",
       "      <td>0</td>\n",
       "      <td>0</td>\n",
       "      <td>0</td>\n",
       "      <td>...</td>\n",
       "      <td>0</td>\n",
       "      <td>0</td>\n",
       "      <td>0</td>\n",
       "      <td>0</td>\n",
       "      <td>0</td>\n",
       "      <td>0</td>\n",
       "      <td>0</td>\n",
       "      <td>0</td>\n",
       "      <td>0</td>\n",
       "      <td>0</td>\n",
       "    </tr>\n",
       "    <tr>\n",
       "      <th>1314</th>\n",
       "      <td>1205</td>\n",
       "      <td>1.00</td>\n",
       "      <td>0</td>\n",
       "      <td>0</td>\n",
       "      <td>0</td>\n",
       "      <td>0</td>\n",
       "      <td>0</td>\n",
       "      <td>0</td>\n",
       "      <td>0</td>\n",
       "      <td>0</td>\n",
       "      <td>...</td>\n",
       "      <td>0</td>\n",
       "      <td>0</td>\n",
       "      <td>0</td>\n",
       "      <td>0</td>\n",
       "      <td>0</td>\n",
       "      <td>0</td>\n",
       "      <td>0</td>\n",
       "      <td>0</td>\n",
       "      <td>0</td>\n",
       "      <td>0</td>\n",
       "    </tr>\n",
       "    <tr>\n",
       "      <th>156</th>\n",
       "      <td>781</td>\n",
       "      <td>0.68</td>\n",
       "      <td>0</td>\n",
       "      <td>0</td>\n",
       "      <td>0</td>\n",
       "      <td>0</td>\n",
       "      <td>0</td>\n",
       "      <td>0</td>\n",
       "      <td>0</td>\n",
       "      <td>0</td>\n",
       "      <td>...</td>\n",
       "      <td>0</td>\n",
       "      <td>0</td>\n",
       "      <td>0</td>\n",
       "      <td>0</td>\n",
       "      <td>0</td>\n",
       "      <td>0</td>\n",
       "      <td>0</td>\n",
       "      <td>0</td>\n",
       "      <td>0</td>\n",
       "      <td>0</td>\n",
       "    </tr>\n",
       "    <tr>\n",
       "      <th>563</th>\n",
       "      <td>963</td>\n",
       "      <td>0.66</td>\n",
       "      <td>0</td>\n",
       "      <td>0</td>\n",
       "      <td>0</td>\n",
       "      <td>0</td>\n",
       "      <td>0</td>\n",
       "      <td>0</td>\n",
       "      <td>0</td>\n",
       "      <td>0</td>\n",
       "      <td>...</td>\n",
       "      <td>0</td>\n",
       "      <td>0</td>\n",
       "      <td>0</td>\n",
       "      <td>0</td>\n",
       "      <td>0</td>\n",
       "      <td>0</td>\n",
       "      <td>0</td>\n",
       "      <td>0</td>\n",
       "      <td>0</td>\n",
       "      <td>0</td>\n",
       "    </tr>\n",
       "    <tr>\n",
       "      <th>901</th>\n",
       "      <td>1716</td>\n",
       "      <td>0.78</td>\n",
       "      <td>0</td>\n",
       "      <td>0</td>\n",
       "      <td>0</td>\n",
       "      <td>0</td>\n",
       "      <td>0</td>\n",
       "      <td>0</td>\n",
       "      <td>0</td>\n",
       "      <td>0</td>\n",
       "      <td>...</td>\n",
       "      <td>0</td>\n",
       "      <td>0</td>\n",
       "      <td>0</td>\n",
       "      <td>0</td>\n",
       "      <td>0</td>\n",
       "      <td>0</td>\n",
       "      <td>0</td>\n",
       "      <td>0</td>\n",
       "      <td>0</td>\n",
       "      <td>0</td>\n",
       "    </tr>\n",
       "  </tbody>\n",
       "</table>\n",
       "<p>5 rows × 751 columns</p>\n",
       "</div>"
      ],
      "text/plain": [
       "       REF  CocoaPercent  Spec_Bean_Org_A case of the Xerces Blues  \\\n",
       "1213  1311          0.70                                         0   \n",
       "1314  1205          1.00                                         0   \n",
       "156    781          0.68                                         0   \n",
       "563    963          0.66                                         0   \n",
       "901   1716          0.78                                         0   \n",
       "\n",
       "      Spec_Bean_Org_ABOCFA Coop  Spec_Bean_Org_Abstract S  w  Jamaica nibs  \\\n",
       "1213                          0                                          0   \n",
       "1314                          0                                          0   \n",
       "156                           0                                          0   \n",
       "563                           0                                          0   \n",
       "901                           0                                          0   \n",
       "\n",
       "      Spec_Bean_Org_Acarigua  Spec_Bean_Org_Acopagro  \\\n",
       "1213                       0                       0   \n",
       "1314                       0                       0   \n",
       "156                        0                       0   \n",
       "563                        0                       0   \n",
       "901                        0                       0   \n",
       "\n",
       "      Spec_Bean_Org_Acul du Nord  Spec_Bean_Org_Africa  \\\n",
       "1213                           0                     0   \n",
       "1314                           0                     0   \n",
       "156                            0                     0   \n",
       "563                            0                     0   \n",
       "901                            0                     0   \n",
       "\n",
       "      Spec_Bean_Org_AgroCriso Plantation  ...  \\\n",
       "1213                                   0  ...   \n",
       "1314                                   0  ...   \n",
       "156                                    0  ...   \n",
       "563                                    0  ...   \n",
       "901                                    0  ...   \n",
       "\n",
       "      BroadBeanOrg_Ven., Trinidad, Mad.  BroadBeanOrg_Ven.,Ecu.,Peru,Nic.  \\\n",
       "1213                                  0                                 0   \n",
       "1314                                  0                                 0   \n",
       "156                                   0                                 0   \n",
       "563                                   0                                 0   \n",
       "901                                   0                                 0   \n",
       "\n",
       "      BroadBeanOrg_Venez,Africa,Brasil,Peru,Mex  BroadBeanOrg_Venezuela  \\\n",
       "1213                                          0                       0   \n",
       "1314                                          0                       0   \n",
       "156                                           0                       0   \n",
       "563                                           0                       0   \n",
       "901                                           0                       0   \n",
       "\n",
       "      BroadBeanOrg_Venezuela, Dom. Rep.  BroadBeanOrg_Venezuela, Ghana  \\\n",
       "1213                                  0                              0   \n",
       "1314                                  0                              0   \n",
       "156                                   0                              0   \n",
       "563                                   0                              0   \n",
       "901                                   0                              0   \n",
       "\n",
       "      BroadBeanOrg_Venezuela, Java  BroadBeanOrg_Venezuela, Trinidad  \\\n",
       "1213                             0                                 0   \n",
       "1314                             0                                 0   \n",
       "156                              0                                 0   \n",
       "563                              0                                 0   \n",
       "901                              0                                 0   \n",
       "\n",
       "      BroadBeanOrg_Vietnam  BroadBeanOrg_West Africa  \n",
       "1213                     0                         0  \n",
       "1314                     0                         0  \n",
       "156                      0                         0  \n",
       "563                      0                         0  \n",
       "901                      0                         0  \n",
       "\n",
       "[5 rows x 751 columns]"
      ]
     },
     "execution_count": 21,
     "metadata": {},
     "output_type": "execute_result"
    }
   ],
   "source": [
    "#Printing X_train\n",
    "X_train.head()"
   ]
  },
  {
   "cell_type": "code",
   "execution_count": 22,
   "metadata": {},
   "outputs": [
    {
     "data": {
      "text/html": [
       "<div>\n",
       "<style scoped>\n",
       "    .dataframe tbody tr th:only-of-type {\n",
       "        vertical-align: middle;\n",
       "    }\n",
       "\n",
       "    .dataframe tbody tr th {\n",
       "        vertical-align: top;\n",
       "    }\n",
       "\n",
       "    .dataframe thead th {\n",
       "        text-align: right;\n",
       "    }\n",
       "</style>\n",
       "<table border=\"1\" class=\"dataframe\">\n",
       "  <thead>\n",
       "    <tr style=\"text-align: right;\">\n",
       "      <th></th>\n",
       "      <th>REF</th>\n",
       "      <th>CocoaPercent</th>\n",
       "      <th>Spec_Bean_Org_A case of the Xerces Blues</th>\n",
       "      <th>Spec_Bean_Org_ABOCFA Coop</th>\n",
       "      <th>Spec_Bean_Org_Abstract S  w  Jamaica nibs</th>\n",
       "      <th>Spec_Bean_Org_Acarigua</th>\n",
       "      <th>Spec_Bean_Org_Acopagro</th>\n",
       "      <th>Spec_Bean_Org_Acul du Nord</th>\n",
       "      <th>Spec_Bean_Org_Africa</th>\n",
       "      <th>Spec_Bean_Org_AgroCriso Plantation</th>\n",
       "      <th>...</th>\n",
       "      <th>BroadBeanOrg_Ven., Trinidad, Mad.</th>\n",
       "      <th>BroadBeanOrg_Ven.,Ecu.,Peru,Nic.</th>\n",
       "      <th>BroadBeanOrg_Venez,Africa,Brasil,Peru,Mex</th>\n",
       "      <th>BroadBeanOrg_Venezuela</th>\n",
       "      <th>BroadBeanOrg_Venezuela, Dom. Rep.</th>\n",
       "      <th>BroadBeanOrg_Venezuela, Ghana</th>\n",
       "      <th>BroadBeanOrg_Venezuela, Java</th>\n",
       "      <th>BroadBeanOrg_Venezuela, Trinidad</th>\n",
       "      <th>BroadBeanOrg_Vietnam</th>\n",
       "      <th>BroadBeanOrg_West Africa</th>\n",
       "    </tr>\n",
       "  </thead>\n",
       "  <tbody>\n",
       "    <tr>\n",
       "      <th>449</th>\n",
       "      <td>1454</td>\n",
       "      <td>0.70</td>\n",
       "      <td>0</td>\n",
       "      <td>0</td>\n",
       "      <td>0</td>\n",
       "      <td>0</td>\n",
       "      <td>0</td>\n",
       "      <td>0</td>\n",
       "      <td>0</td>\n",
       "      <td>0</td>\n",
       "      <td>...</td>\n",
       "      <td>0</td>\n",
       "      <td>0</td>\n",
       "      <td>0</td>\n",
       "      <td>0</td>\n",
       "      <td>0</td>\n",
       "      <td>0</td>\n",
       "      <td>0</td>\n",
       "      <td>0</td>\n",
       "      <td>0</td>\n",
       "      <td>0</td>\n",
       "    </tr>\n",
       "    <tr>\n",
       "      <th>514</th>\n",
       "      <td>355</td>\n",
       "      <td>0.64</td>\n",
       "      <td>0</td>\n",
       "      <td>0</td>\n",
       "      <td>0</td>\n",
       "      <td>0</td>\n",
       "      <td>0</td>\n",
       "      <td>0</td>\n",
       "      <td>0</td>\n",
       "      <td>0</td>\n",
       "      <td>...</td>\n",
       "      <td>0</td>\n",
       "      <td>0</td>\n",
       "      <td>0</td>\n",
       "      <td>0</td>\n",
       "      <td>0</td>\n",
       "      <td>0</td>\n",
       "      <td>0</td>\n",
       "      <td>0</td>\n",
       "      <td>0</td>\n",
       "      <td>0</td>\n",
       "    </tr>\n",
       "    <tr>\n",
       "      <th>152</th>\n",
       "      <td>761</td>\n",
       "      <td>0.70</td>\n",
       "      <td>0</td>\n",
       "      <td>0</td>\n",
       "      <td>0</td>\n",
       "      <td>0</td>\n",
       "      <td>0</td>\n",
       "      <td>0</td>\n",
       "      <td>0</td>\n",
       "      <td>0</td>\n",
       "      <td>...</td>\n",
       "      <td>0</td>\n",
       "      <td>0</td>\n",
       "      <td>0</td>\n",
       "      <td>0</td>\n",
       "      <td>0</td>\n",
       "      <td>0</td>\n",
       "      <td>0</td>\n",
       "      <td>0</td>\n",
       "      <td>0</td>\n",
       "      <td>0</td>\n",
       "    </tr>\n",
       "    <tr>\n",
       "      <th>1402</th>\n",
       "      <td>887</td>\n",
       "      <td>0.81</td>\n",
       "      <td>0</td>\n",
       "      <td>0</td>\n",
       "      <td>0</td>\n",
       "      <td>0</td>\n",
       "      <td>0</td>\n",
       "      <td>0</td>\n",
       "      <td>0</td>\n",
       "      <td>0</td>\n",
       "      <td>...</td>\n",
       "      <td>0</td>\n",
       "      <td>0</td>\n",
       "      <td>0</td>\n",
       "      <td>0</td>\n",
       "      <td>0</td>\n",
       "      <td>0</td>\n",
       "      <td>0</td>\n",
       "      <td>0</td>\n",
       "      <td>0</td>\n",
       "      <td>0</td>\n",
       "    </tr>\n",
       "    <tr>\n",
       "      <th>744</th>\n",
       "      <td>202</td>\n",
       "      <td>1.00</td>\n",
       "      <td>0</td>\n",
       "      <td>0</td>\n",
       "      <td>0</td>\n",
       "      <td>0</td>\n",
       "      <td>0</td>\n",
       "      <td>0</td>\n",
       "      <td>0</td>\n",
       "      <td>0</td>\n",
       "      <td>...</td>\n",
       "      <td>0</td>\n",
       "      <td>0</td>\n",
       "      <td>0</td>\n",
       "      <td>0</td>\n",
       "      <td>0</td>\n",
       "      <td>0</td>\n",
       "      <td>0</td>\n",
       "      <td>0</td>\n",
       "      <td>0</td>\n",
       "      <td>0</td>\n",
       "    </tr>\n",
       "  </tbody>\n",
       "</table>\n",
       "<p>5 rows × 751 columns</p>\n",
       "</div>"
      ],
      "text/plain": [
       "       REF  CocoaPercent  Spec_Bean_Org_A case of the Xerces Blues  \\\n",
       "449   1454          0.70                                         0   \n",
       "514    355          0.64                                         0   \n",
       "152    761          0.70                                         0   \n",
       "1402   887          0.81                                         0   \n",
       "744    202          1.00                                         0   \n",
       "\n",
       "      Spec_Bean_Org_ABOCFA Coop  Spec_Bean_Org_Abstract S  w  Jamaica nibs  \\\n",
       "449                           0                                          0   \n",
       "514                           0                                          0   \n",
       "152                           0                                          0   \n",
       "1402                          0                                          0   \n",
       "744                           0                                          0   \n",
       "\n",
       "      Spec_Bean_Org_Acarigua  Spec_Bean_Org_Acopagro  \\\n",
       "449                        0                       0   \n",
       "514                        0                       0   \n",
       "152                        0                       0   \n",
       "1402                       0                       0   \n",
       "744                        0                       0   \n",
       "\n",
       "      Spec_Bean_Org_Acul du Nord  Spec_Bean_Org_Africa  \\\n",
       "449                            0                     0   \n",
       "514                            0                     0   \n",
       "152                            0                     0   \n",
       "1402                           0                     0   \n",
       "744                            0                     0   \n",
       "\n",
       "      Spec_Bean_Org_AgroCriso Plantation  ...  \\\n",
       "449                                    0  ...   \n",
       "514                                    0  ...   \n",
       "152                                    0  ...   \n",
       "1402                                   0  ...   \n",
       "744                                    0  ...   \n",
       "\n",
       "      BroadBeanOrg_Ven., Trinidad, Mad.  BroadBeanOrg_Ven.,Ecu.,Peru,Nic.  \\\n",
       "449                                   0                                 0   \n",
       "514                                   0                                 0   \n",
       "152                                   0                                 0   \n",
       "1402                                  0                                 0   \n",
       "744                                   0                                 0   \n",
       "\n",
       "      BroadBeanOrg_Venez,Africa,Brasil,Peru,Mex  BroadBeanOrg_Venezuela  \\\n",
       "449                                           0                       0   \n",
       "514                                           0                       0   \n",
       "152                                           0                       0   \n",
       "1402                                          0                       0   \n",
       "744                                           0                       0   \n",
       "\n",
       "      BroadBeanOrg_Venezuela, Dom. Rep.  BroadBeanOrg_Venezuela, Ghana  \\\n",
       "449                                   0                              0   \n",
       "514                                   0                              0   \n",
       "152                                   0                              0   \n",
       "1402                                  0                              0   \n",
       "744                                   0                              0   \n",
       "\n",
       "      BroadBeanOrg_Venezuela, Java  BroadBeanOrg_Venezuela, Trinidad  \\\n",
       "449                              0                                 0   \n",
       "514                              0                                 0   \n",
       "152                              0                                 0   \n",
       "1402                             0                                 0   \n",
       "744                              0                                 0   \n",
       "\n",
       "      BroadBeanOrg_Vietnam  BroadBeanOrg_West Africa  \n",
       "449                      0                         0  \n",
       "514                      0                         0  \n",
       "152                      0                         0  \n",
       "1402                     0                         0  \n",
       "744                      0                         0  \n",
       "\n",
       "[5 rows x 751 columns]"
      ]
     },
     "execution_count": 22,
     "metadata": {},
     "output_type": "execute_result"
    }
   ],
   "source": [
    "#Printing X_test\n",
    "X_test.head()"
   ]
  },
  {
   "cell_type": "code",
   "execution_count": 23,
   "metadata": {},
   "outputs": [
    {
     "data": {
      "text/plain": [
       "1213    3\n",
       "1314    2\n",
       "156     3\n",
       "563     3\n",
       "901     3\n",
       "Name: cut_rating, dtype: category\n",
       "Categories (4, object): [1 < 2 < 3 < 4]"
      ]
     },
     "execution_count": 23,
     "metadata": {},
     "output_type": "execute_result"
    }
   ],
   "source": [
    "#Printing y_train\n",
    "y_train.head()"
   ]
  },
  {
   "cell_type": "code",
   "execution_count": 24,
   "metadata": {},
   "outputs": [
    {
     "data": {
      "text/plain": [
       "449     3\n",
       "514     3\n",
       "152     2\n",
       "1402    2\n",
       "744     3\n",
       "Name: cut_rating, dtype: category\n",
       "Categories (4, object): [1 < 2 < 3 < 4]"
      ]
     },
     "execution_count": 24,
     "metadata": {},
     "output_type": "execute_result"
    }
   ],
   "source": [
    "#Printing y_test\n",
    "y_test.head()"
   ]
  },
  {
   "cell_type": "markdown",
   "metadata": {},
   "source": [
    "<h2>5- Model Development</h2>\n"
   ]
  },
  {
   "cell_type": "markdown",
   "metadata": {},
   "source": [
    " <h3>5.1- Using GridSearchCV: Expanding Learning algorithms on their hyperparameters for hyperparameter tuning, to derive best possible values for hyperparameters.</h3>"
   ]
  },
  {
   "cell_type": "code",
   "execution_count": 25,
   "metadata": {},
   "outputs": [
    {
     "name": "stdout",
     "output_type": "stream",
     "text": [
      "Tuned Best Hyperparameters for Decision Tree:\n",
      "\n",
      "('Best max_depth:', 1)\n",
      "('Best min_samples_split:', 2)\n",
      "('Best min_samples_leaf:', 10)\n"
     ]
    }
   ],
   "source": [
    "#Importing GridSearchCV\n",
    "from sklearn.model_selection import GridSearchCV\n",
    "\n",
    "#Importing Decision Tree Classifier\n",
    "from sklearn.tree import DecisionTreeClassifier\n",
    "\n",
    "# Maximum number of levels in tree\n",
    "max_depth=[1,3,5]\n",
    "\n",
    "# Minimum number of samples required to split a node\n",
    "min_samples_split = [2,5,7]\n",
    "\n",
    "# Minimum number of samples required at each leaf node\n",
    "min_samples_leaf = [10,20,30]\n",
    "\n",
    "#Creating a Dictionary for storing Hyperparameters\n",
    "hyperparameters_DT = dict(max_depth = max_depth, min_samples_split = min_samples_split,min_samples_leaf = min_samples_leaf)\n",
    "\n",
    "#Creating new RF model object for Random Forest Classifier\n",
    "DT = DecisionTreeClassifier()\n",
    "\n",
    "#Applying GridSearch for 3 folds\n",
    "clf_DT = GridSearchCV(DT, hyperparameters_DT, cv=3)\n",
    "\n",
    "#Fitting the model\n",
    "best_model_DT = clf_DT.fit(X_train,y_train)\n",
    "\n",
    "#Printing the value of best Hyperparameters\n",
    "print(\"Tuned Best Hyperparameters for Decision Tree:\\n\")\n",
    "print('Best max_depth:', best_model_DT.best_estimator_.get_params()['max_depth'])\n",
    "print('Best min_samples_split:', best_model_DT.best_estimator_.get_params()['min_samples_split'])\n",
    "print('Best min_samples_leaf:', best_model_DT.best_estimator_.get_params()['min_samples_leaf'])"
   ]
  },
  {
   "cell_type": "code",
   "execution_count": 26,
   "metadata": {},
   "outputs": [
    {
     "name": "stdout",
     "output_type": "stream",
     "text": [
      "Tuned Best Hyperparameters for KNN:\n",
      "\n",
      "('Best leaf_size:', 1)\n",
      "('Best p:', 1)\n",
      "('Best n_neighbors:', 27)\n"
     ]
    }
   ],
   "source": [
    "#Importing K-NearestNeighbours Classifier\n",
    "from sklearn.neighbors import KNeighborsClassifier\n",
    "\n",
    "#Listing Hyperparameters that we want to tune for KNN\n",
    "\n",
    "#Tuning parameters for KNN\n",
    "n_neighbors = [25,27,29,30]\n",
    "leaf_size = [1,3,5]\n",
    "p=[1,2]\n",
    "\n",
    "#Creating a Dictionary for storing Hyperparameters\n",
    "hyperparameters_KNN = dict(n_neighbors=n_neighbors,leaf_size= leaf_size, p =p)\n",
    "\n",
    "#Creating new KNN object for KNN Classifier\n",
    "knn = KNeighborsClassifier()\n",
    "\n",
    "#Applying GridSearch for 3 folds\n",
    "clf_knn = GridSearchCV(knn, hyperparameters_KNN, cv=3)\n",
    "\n",
    "#Fitting the model\n",
    "best_model_knn = clf_knn.fit(X_train,y_train)\n",
    "\n",
    "#Printing the value of best Hyperparameters\n",
    "print(\"Tuned Best Hyperparameters for KNN:\\n\")\n",
    "print('Best leaf_size:', best_model_knn.best_estimator_.get_params()['leaf_size'])\n",
    "print('Best p:', best_model_knn.best_estimator_.get_params()['p'])\n",
    "print('Best n_neighbors:', best_model_knn.best_estimator_.get_params()['n_neighbors'])"
   ]
  },
  {
   "cell_type": "code",
   "execution_count": 27,
   "metadata": {},
   "outputs": [
    {
     "name": "stdout",
     "output_type": "stream",
     "text": [
      "Tuned Best Hyperparameters for Random Forest:\n",
      "\n",
      "('Best n_estimators:', 10)\n",
      "('Best max_depth:', 9)\n",
      "('Best min_samples_split:', 2)\n",
      "('Best min_samples_leaf:', 1)\n"
     ]
    }
   ],
   "source": [
    "#Importing Random Forest Classifier\n",
    "from sklearn.ensemble import RandomForestClassifier\n",
    "\n",
    "# Number of trees in random forest\n",
    "n_estimators= [1,3,5,7,10]\n",
    "\n",
    "# Maximum number of levels in tree\n",
    "max_depth=[1,3,5,7,9]\n",
    "\n",
    "# Minimum number of samples required to split a node\n",
    "min_samples_split = [2, 5,7,9]\n",
    "\n",
    "# Minimum number of samples required at each leaf node\n",
    "min_samples_leaf = [1, 2, 4]\n",
    "\n",
    "#Creating a Dictionary for storing Hyperparameters\n",
    "hyperparameters_RF = dict(n_estimators=n_estimators,max_depth = max_depth, min_samples_split = min_samples_split,min_samples_leaf = min_samples_leaf)\n",
    "\n",
    "#Creating new RF model object for Random Forest Classifier\n",
    "RF = RandomForestClassifier()\n",
    "\n",
    "#Applying GridSearch for 3 folds\n",
    "clf_RF = GridSearchCV(RF, hyperparameters_RF, cv=3)\n",
    "\n",
    "#Fitting the model\n",
    "best_model_RF = clf_RF.fit(X_train,y_train)\n",
    "\n",
    "#Printing the value of best Hyperparameters\n",
    "print(\"Tuned Best Hyperparameters for Random Forest:\\n\")\n",
    "print('Best n_estimators:', best_model_RF.best_estimator_.get_params()['n_estimators'])\n",
    "print('Best max_depth:', best_model_RF.best_estimator_.get_params()['max_depth'])\n",
    "print('Best min_samples_split:', best_model_RF.best_estimator_.get_params()['min_samples_split'])\n",
    "print('Best min_samples_leaf:', best_model_RF.best_estimator_.get_params()['min_samples_leaf'])"
   ]
  },
  {
   "cell_type": "markdown",
   "metadata": {},
   "source": [
    " <h3>5.2- Using Cross_Val_Score: Assessing the validation performance for each learning algorithm by incorporating the derived best values of hyperparameters calculated in the above step</h3>\n",
    " <h3>5.3- Printing mean P over folds i.e. 3, 4, 5 and the selected model is Random forest as it has the highest validation performance over all folds as compare to other learning algorithms </h3>"
   ]
  },
  {
   "cell_type": "code",
   "execution_count": 28,
   "metadata": {},
   "outputs": [
    {
     "name": "stdout",
     "output_type": "stream",
     "text": [
      "Validation Performance for Decision Tree Model:\n",
      "\n",
      "Validation Performance for 3 Folds: [0.68181818 0.68481375 0.68481375]\n",
      "Mean Validation Performance over 3 Folds: 0.6838152296605019\n",
      "\n",
      "Validation Performance for 4 Folds: [0.65283019 0.68441065 0.68582375 0.68582375]\n",
      "Mean Validation Performance over 3 Folds: 0.6772220861614056\n",
      "\n",
      "Validation Performance for 5 Folds: [0.68246445 0.68246445 0.68246445 0.68421053 0.6875    ]\n",
      "Mean Validation Performance over 5 Folds: 0.6838207782489399\n",
      "\n",
      "------------------------------------------------------------------------------------------------\n",
      "\n",
      "Validation Performance for K-Nearest Neighbors Model:\n",
      "\n",
      "Validation Performance for 3 Folds: [0.68181818 0.68481375 0.68481375]\n",
      "Mean Validation Performance over 3 Folds: 0.6838152296605019\n",
      "\n",
      "Validation Performance for 4 Folds: [0.67924528 0.6730038  0.68582375 0.68582375]\n",
      "Mean Validation Performance over 3 Folds: 0.6809741487196952\n",
      "\n",
      "Validation Performance for 5 Folds: [0.67772512 0.67298578 0.68246445 0.68421053 0.6875    ]\n",
      "Mean Validation Performance over 5 Folds: 0.6809771763532052\n",
      "\n",
      "------------------------------------------------------------------------------------------------\n",
      "\n",
      "Validation Performance for Random Forest Model:\n",
      "\n",
      "Validation Performance for 3 Folds: [0.68465909 0.68481375 0.68481375]\n",
      "Mean Validation Performance over 3 Folds: 0.6847621993574716\n",
      "\n",
      "Validation Performance for 4 Folds: [0.6754717  0.68441065 0.68582375 0.68199234]\n",
      "Mean Validation Performance over 3 Folds: 0.6819246091137657\n",
      "\n",
      "Validation Performance for 5 Folds: [0.69668246 0.68246445 0.68246445 0.68421053 0.68269231]\n",
      "Mean Validation Performance over 5 Folds: 0.685702841683136\n",
      "\n"
     ]
    }
   ],
   "source": [
    "#Importing Cross Validation Score\n",
    "from sklearn.model_selection import cross_val_score\n",
    "\n",
    "# Validation Performance assessment for Decision tree \n",
    "\n",
    "#Using the best tuned hyperparameters\n",
    "DT = DecisionTreeClassifier(max_depth=1, min_samples_leaf=2,min_samples_split=10, random_state=4531) \n",
    "\n",
    "#Calculating Cross Validation Score for 3 folds\n",
    "scores1 = cross_val_score(DT, X_train,y_train, cv=3)\n",
    "print (\"Validation Performance for Decision Tree Model:\\n\")\n",
    "print('Validation Performance for 3 Folds: '+ str(scores1))\n",
    "S1=scores1.mean()\n",
    "print(\"Mean Validation Performance over 3 Folds: \" +str(S1)+\"\\n\")\n",
    "\n",
    "#Calculating Cross Validation Score for 4 folds\n",
    "scores2 = cross_val_score(DT, X_train,y_train, cv=4)\n",
    "print(\"Validation Performance for 4 Folds: \"+ str(scores2))\n",
    "S2=scores2.mean()\n",
    "print(\"Mean Validation Performance over 3 Folds: \"+ str(S2)+\"\\n\")\n",
    "\n",
    "#Calculating Cross Validation Score for 5 folds\n",
    "scores3 = cross_val_score(DT, X_train,y_train, cv=5)\n",
    "print(\"Validation Performance for 5 Folds: \"+ str(scores3))\n",
    "S3=scores3.mean()\n",
    "print(\"Mean Validation Performance over 5 Folds: \"+str(S3)+\"\\n\")\n",
    "\n",
    "\n",
    "# Validation Performance assessment for K-Nearest Neighbors \n",
    "\n",
    "#Using the best tuned hyperparameters\n",
    "knn = KNeighborsClassifier(leaf_size=1,p=1,n_neighbors = 27)\n",
    "\n",
    "#Calculating Cross Validation Score for 3 folds\n",
    "scores1 = cross_val_score(knn, X_train,y_train, cv=3)\n",
    "print (\"------------------------------------------------------------------------------------------------\")\n",
    "print (\"\\nValidation Performance for K-Nearest Neighbors Model:\\n\")\n",
    "print('Validation Performance for 3 Folds: '+ str(scores1))\n",
    "S1=scores1.mean()\n",
    "print(\"Mean Validation Performance over 3 Folds: \" +str(S1)+\"\\n\")\n",
    "\n",
    "#Calculating Cross Validation Score for 4 folds\n",
    "scores2 = cross_val_score(knn, X_train,y_train, cv=4)\n",
    "print(\"Validation Performance for 4 Folds: \"+ str(scores2))\n",
    "S2=scores2.mean()\n",
    "print(\"Mean Validation Performance over 3 Folds: \"+ str(S2)+\"\\n\")\n",
    "\n",
    "#Calculating Cross Validation Score for 5 folds\n",
    "scores3 = cross_val_score(knn, X_train,y_train, cv=5)\n",
    "print(\"Validation Performance for 5 Folds: \"+ str(scores3))\n",
    "S3=scores3.mean()\n",
    "print(\"Mean Validation Performance over 5 Folds: \"+str(S3)+\"\\n\")\n",
    "\n",
    "\n",
    "# Validation Performance assessment for Random Forest\n",
    "\n",
    "#Using the best tuned hyperparameters\n",
    "RF = RandomForestClassifier(n_estimators=3, max_depth=3, min_samples_split = 7, min_samples_leaf = 1,random_state=34560)\n",
    "\n",
    "#Calculating Cross Validation Score for 3 folds\n",
    "score1 = cross_val_score(RF, X_train,y_train, cv=3)\n",
    "print (\"------------------------------------------------------------------------------------------------\")\n",
    "print (\"\\nValidation Performance for Random Forest Model:\\n\")\n",
    "print('Validation Performance for 3 Folds: '+ str(score1))\n",
    "S1=score1.mean()\n",
    "print(\"Mean Validation Performance over 3 Folds: \" +str(S1)+\"\\n\")\n",
    "\n",
    "#Calculating Cross Validation Score for 4 folds\n",
    "score2 = cross_val_score(RF, X_train,y_train, cv=4)\n",
    "print(\"Validation Performance for 4 Folds: \"+ str(score2))\n",
    "S2=score2.mean()\n",
    "print(\"Mean Validation Performance over 3 Folds: \"+ str(S2)+\"\\n\")\n",
    "\n",
    "#Calculating Cross Validation Score for 5 folds\n",
    "score3 = cross_val_score(RF, X_train,y_train, cv=5)\n",
    "print(\"Validation Performance for 5 Folds: \"+ str(score3))\n",
    "S3=score3.mean()\n",
    "print(\"Mean Validation Performance over 5 Folds: \"+str(S3)+\"\\n\")\n",
    "\n",
    "\n"
   ]
  },
  {
   "cell_type": "markdown",
   "metadata": {},
   "source": [
    "<h2>6- Performance Assessment</h2>\n"
   ]
  },
  {
   "cell_type": "markdown",
   "metadata": {},
   "source": [
    "<h3>6.1- Applying RandomForestClassifier on Test data</h3>\n",
    "<h3>6.2- Printing Classification Report, Confusion Matrix and Accuracy Score</h3>"
   ]
  },
  {
   "cell_type": "code",
   "execution_count": 29,
   "metadata": {},
   "outputs": [
    {
     "name": "stdout",
     "output_type": "stream",
     "text": [
      "Random Forest - Train_Test Suite 70:30\n",
      "------------------------------------------------------------------------------------------------\n",
      "\n",
      "Confusion Matrix\n",
      "[[  0   0   5   0]\n",
      " [  0   2  98   0]\n",
      " [  0   0 319   0]\n",
      " [  0   0  26   0]]\n",
      "\n",
      "------------------------------------------------------------------------------------------------\n",
      "\n",
      "Classification Report\n",
      "              precision    recall  f1-score   support\n",
      "\n",
      "           1       0.00      0.00      0.00         5\n",
      "           2       1.00      0.02      0.04       100\n",
      "           3       0.71      1.00      0.83       319\n",
      "           4       0.00      0.00      0.00        26\n",
      "\n",
      "   micro avg       0.71      0.71      0.71       450\n",
      "   macro avg       0.43      0.26      0.22       450\n",
      "weighted avg       0.73      0.71      0.60       450\n",
      "\n",
      "\n",
      "------------------------------------------------------------------------------------------------\n",
      "\n",
      "Accuracy Score\n",
      "0.7133333333333334\n"
     ]
    },
    {
     "name": "stderr",
     "output_type": "stream",
     "text": [
      "E:\\Anaconda\\lib\\site-packages\\sklearn\\metrics\\classification.py:1143: UndefinedMetricWarning:\n",
      "\n",
      "Precision and F-score are ill-defined and being set to 0.0 in labels with no predicted samples.\n",
      "\n"
     ]
    }
   ],
   "source": [
    "#Random Forest 50:50\n",
    "print(\"Random Forest - Train_Test Suite 70:30\")\n",
    "print (\"------------------------------------------------------------------------------------------------\")\n",
    "from sklearn.ensemble import RandomForestClassifier\n",
    "\n",
    "RF = RandomForestClassifier(n_estimators=3, max_depth=3, min_samples_split = 7, min_samples_leaf = 1,random_state=76501)\n",
    "\n",
    "RF.fit(X_train,y_train)\n",
    "\n",
    "y_pred=RF.predict(X_test)\n",
    "\n",
    "#Displaying Confusion Matrix\n",
    "print(\"\\nConfusion Matrix\")\n",
    "from sklearn.metrics import confusion_matrix\n",
    "cm = confusion_matrix(y_test, y_pred)\n",
    "print(cm)\n",
    "\n",
    "print (\"\\n------------------------------------------------------------------------------------------------\")\n",
    "\n",
    "#Displaying Classification Report\n",
    "print(\"\\nClassification Report\")\n",
    "from sklearn.metrics import classification_report\n",
    "print(classification_report(y_test, y_pred))\n",
    "\n",
    "print (\"\\n------------------------------------------------------------------------------------------------\")\n",
    "\n",
    "#Displaying Accuracy Score\n",
    "print(\"\\nAccuracy Score\")\n",
    "from sklearn.metrics import accuracy_score\n",
    "print(accuracy_score(y_test, y_pred))"
   ]
  },
  {
   "cell_type": "code",
   "execution_count": 30,
   "metadata": {},
   "outputs": [
    {
     "data": {
      "text/plain": [
       "['model.pickle']"
      ]
     },
     "execution_count": 30,
     "metadata": {},
     "output_type": "execute_result"
    }
   ],
   "source": [
    "import pickle \n",
    "  \n",
    "# Save the trained model as a pickle string. \n",
    "saved_model = pickle.dumps(RF) \n",
    "  \n",
    "# Load the pickled model \n",
    "RF_from_pickle = pickle.loads(saved_model) \n",
    "\n",
    "from sklearn.externals import joblib \n",
    "  \n",
    "# Save the model as a pickle in a file \n",
    "joblib.dump(RF, 'model.pickle') \n",
    "  "
   ]
  },
  {
   "cell_type": "markdown",
   "metadata": {},
   "source": [
    "<h2>7- Bonus - Conductiong other Analysis</h2>"
   ]
  },
  {
   "cell_type": "markdown",
   "metadata": {},
   "source": [
    "<h3>7.1- Bar Chart for Most Predictive Attributes - Using RandomForest Feature Importance for calculating this </h3>"
   ]
  },
  {
   "cell_type": "code",
   "execution_count": 31,
   "metadata": {},
   "outputs": [
    {
     "name": "stdout",
     "output_type": "stream",
     "text": [
      "[0.32391205 0.28842802 0.18133743 0.10962763 0.05893214 0.03776272]\n"
     ]
    },
    {
     "data": {
      "text/plain": [
       "<Figure size 2000x1000 with 1 Axes>"
      ]
     },
     "metadata": {},
     "output_type": "display_data"
    }
   ],
   "source": [
    "import matplotlib.pyplot as plt\n",
    "import seaborn as sns\n",
    "df_XX = df.copy()\n",
    "df_XX = df_XX.drop(['Rating','cut_rating', 'SpecificBeanOrigin','ReviewDate', 'BeanType','BroadBeanOriginModified', 'Company'], axis=1)\n",
    "\n",
    "from sklearn import preprocessing\n",
    "le = preprocessing.LabelEncoder()\n",
    "for column in df_XX.columns:\n",
    "    if df_XX[column].dtype == type(object):\n",
    "        df_XX[column] = le.fit_transform(df_XX[column])\n",
    "        \n",
    "XX= df_XX\n",
    "\n",
    "#Initializing Target Label as y\n",
    "\n",
    "yy=df.cut_rating\n",
    "XX_train = XX  #independent columns\n",
    "yy_train = yy #target column \n",
    "\n",
    "model = RandomForestClassifier(n_estimators=3, max_depth=3, min_samples_split = 7, min_samples_leaf = 1,random_state=34560)\n",
    "\n",
    "model.fit(XX_train,yy_train)\n",
    "print(model.feature_importances_) #use inbuilt class feature_importances of random forest\n",
    "#plot graph of feature importances for better visualization\n",
    "sns.set(font_scale=1.6)\n",
    "sns.set_style(\"whitegrid\")\n",
    "feat_importances = pd.Series(model.feature_importances_, index=XX.columns)\n",
    "feat_importances.nlargest(6).plot(kind='bar', figsize=(20, 10), rot=0, colormap='Set2', linewidth = 2.5, edgecolor = 'grey')\n",
    "plt.xlabel(\"Features\", labelpad=14, size =20)\n",
    "plt.ylabel(\"Predictibility (Importance)\", labelpad=14, size =20)\n",
    "plt.title(\"Most Predictive Features for determining Chocolate Rating\", pad=14, size =27);\n",
    "plt.show()"
   ]
  },
  {
   "cell_type": "markdown",
   "metadata": {},
   "source": [
    "<h3>7.2- Regression Plot for Chocolate Rating by Cocoa Percentage - Using Seaborn plot for this </h3>"
   ]
  },
  {
   "cell_type": "code",
   "execution_count": 32,
   "metadata": {},
   "outputs": [
    {
     "data": {
      "image/png": "[encoded data removed]",
      "text/plain": [
       "<Figure size 1152x576 with 1 Axes>"
      ]
     },
     "metadata": {},
     "output_type": "display_data"
    }
   ],
   "source": [
    "#Making Scatterplot\n",
    "%matplotlib inline\n",
    "import matplotlib.pyplot as plt\n",
    "import seaborn as sns\n",
    "sns.set(font_scale=1.3)\n",
    "sns.set(style=\"whitegrid\")\n",
    "plt.figure(figsize=(16,8))\n",
    "sns.regplot(x=\"CocoaPercent\", y=\"Rating\", data=df,color = \"purple\",scatter_kws={'s':80}, marker=\"^\")\n",
    "plt.xlabel(\"Cocoa Percentage\", fontsize='16', labelpad=12)\n",
    "plt.ylabel(\"Chocolate Rating\", fontsize='16', labelpad=12)\n",
    "plt.title(\"Regression Plot of Chocolate Rating by Cocoa Percentage\", fontsize='20', y=1.02);\n",
    "plt.xticks(size=15)\n",
    "plt.yticks(size=15)\n",
    "plt.show()"
   ]
  },
  {
   "cell_type": "markdown",
   "metadata": {},
   "source": [
    "<h3>7.3- Geographical Map of Country wise Average Chocolate Rating - Using Plotly and Matplotlib for this </h3>"
   ]
  },
  {
   "cell_type": "code",
   "execution_count": 38,
   "metadata": {},
   "outputs": [],
   "source": [
    "#Code for creating columns and specific data required for geographical map\n",
    "data_native_country = [df[\"Rating\"], df[\"BroadBeanOriginModified\"]]\n",
    "headers = [\"Rating\", \"BroadBeanOriginModified\"]\n",
    "df_native_country = pd.concat(data_native_country, axis=1, keys=headers)\n",
    "df_native_country = df_native_country.dropna()\n",
    "df_native_country.sort_values(by='Rating', inplace=True)\n",
    "df_native_country = df_native_country.groupby(['BroadBeanOriginModified'])['Rating'].mean().reset_index()\n",
    "\n",
    "dict_type_countries = { 'Madagascar':'MDG','Hawaii':'USA','Costa Rica':'CRI',\n",
    "             'Nicaragua':'NIC','Colombia':'COL','Ecuador':'ECU', 'St. Lucia':'LCA',\n",
    "             'Peru':'PER','Trinidad':'TTO','Venezuela':'VEN',\n",
    "             'Dominican Republic':'DOM','Jamaica':'JAM','Vietnam':'VNM',\n",
    "             \n",
    "             'Mexico':'MEX','Honduras':'HMD','Guatemala':'GTM',\n",
    "             'Sri Lanka':'LKA','Indonesia':'IDN','Puerto Rico':'PRI',\n",
    "             'St Lucia':'LCA','Ghana':'GHA','Brazil':'BRA',\n",
    "             \n",
    "             'Ivory Coast':'CIV','Uganda':'UGA','Samoa':'WSM',\n",
    "             'Tanzania':'TZA','Papua New Guinea':'PNG','Togo':'TGO',\n",
    "             'Bolivia':'BOL','Panama':'PAN','Belize':'BLZ',\n",
    "             \n",
    "             'Vanuatu':'VUT','Fiji':'FJI',\n",
    "             'Tobago':'TTO','Sao Tome':'STP','Cuba':'CUB',\n",
    "             'Carribean':'CMR','Grenada':'GRD','Principe':'STP','Australia':'AUS','South America':'SA','Malaysia':'MYS',\n",
    "             'Congo':'COG','Haiti':'HTI','Philippines':'PHI',\n",
    "             'Suriname':'SUR','Martinique':'MLT','Solomon Islands':'SLB',\n",
    "             \n",
    "              'India':'IND','El Salvador':'SLV','West Africa':'WA',\n",
    "             'Nigeria':'NGA','Liberia':'LBR','Burma':'MMR'\n",
    "                 }\n",
    "df_native_country.insert(2,'Code', df_native_country['BroadBeanOriginModified'].map(dict_type_countries))"
   ]
  },
  {
   "cell_type": "code",
   "execution_count": 39,
   "metadata": {},
   "outputs": [
    {
     "data": {
      "application/vnd.plotly.v1+json": {
       "config": {
        "plotlyServerURL": "https://plot.ly"
       },
       "data": [
        {
         "autocolorscale": true,
         "colorbar": {
          "len": 1.2,
          "thickness": 50,
          "title": {
           "text": "Rating"
          },
          "xpad": 0
         },
         "colorscale": [
          [
           0,
           "rgb(255,245,240)"
          ],
          [
           0.125,
           "rgb(254,224,210)"
          ],
          [
           0.25,
           "rgb(252,187,161)"
          ],
          [
           0.375,
           "rgb(252,146,114)"
          ],
          [
           0.5,
           "rgb(251,106,74)"
          ],
          [
           0.625,
           "rgb(239,59,44)"
          ],
          [
           0.75,
           "rgb(203,24,29)"
          ],
          [
           0.875,
           "rgb(165,15,21)"
          ],
          [
           1,
           "rgb(103,0,13)"
          ]
         ],
         "locations": [
          "AUS",
          "BLZ",
          "BOL",
          "BRA",
          "MMR",
          "CMR",
          null,
          null,
          "COL",
          "COG",
          "CRI",
          "CUB",
          null,
          "DOM",
          "ECU",
          "SLV",
          "FJI",
          "GHA",
          null,
          "GRD",
          "GTM",
          "HTI",
          "USA",
          "HMD",
          "IND",
          "IDN",
          "CIV",
          "JAM",
          "LBR",
          "MDG",
          null,
          "MYS",
          "MLT",
          "MEX",
          null,
          "NIC",
          "NGA",
          "PAN",
          "PNG",
          "PER",
          "PHI",
          "STP",
          "PRI",
          "WSM",
          "STP",
          null,
          "SLB",
          "SA",
          "LKA",
          "LCA",
          "SUR",
          "TZA",
          "TTO",
          "TGO",
          "TTO",
          null,
          "UGA",
          "VUT",
          "VEN",
          "VNM",
          "WA"
         ],
         "marker": {
          "line": {
           "color": "darkgray",
           "width": 0.5
          }
         },
         "text": [
          "Australia",
          "Belize",
          "Bolivia",
          "Brazil",
          "Burma",
          "Carribean",
          "Carribean(DR/Jam/Tri)",
          "Central and S. America",
          "Colombia",
          "Congo",
          "Costa Rica",
          "Cuba",
          "Domincan Republic",
          "Dominican Republic",
          "Ecuador",
          "El Salvador",
          "Fiji",
          "Ghana",
          "Ghana & Madagascar",
          "Grenada",
          "Guatemala",
          "Haiti",
          "Hawaii",
          "Honduras",
          "India",
          "Indonesia",
          "Ivory Coast",
          "Jamaica",
          "Liberia",
          "Madagascar",
          "Madagascar & Ecuador",
          "Malaysia",
          "Martinique",
          "Mexico",
          "Multiple",
          "Nicaragua",
          "Nigeria",
          "Panama",
          "Papua New Guinea",
          "Peru",
          "Philippines",
          "Principe",
          "Puerto Rico",
          "Samoa",
          "Sao Tome",
          "Sao Tome & Principe",
          "Solomon Islands",
          "South America",
          "Sri Lanka",
          "St. Lucia",
          "Suriname",
          "Tanzania",
          "Tobago",
          "Togo",
          "Trinidad",
          "Trinidad-Tobago",
          "Uganda",
          "Vanuatu",
          "Venezuela",
          "Vietnam",
          "West Africa"
         ],
         "type": "choropleth",
         "z": [
          3.25,
          3.23125,
          3.2,
          3.2760416666666665,
          3,
          2.9642857142857144,
          3,
          2.75,
          3.222972972972973,
          3.15,
          3.164285714285714,
          3.225,
          3.21875,
          3.204391891891892,
          3.0414285714285714,
          2.875,
          3.107142857142857,
          2.9827586206896552,
          2,
          3.0535714285714284,
          3.324074074074074,
          3.4375,
          3.304054054054054,
          3.3461538461538463,
          3.125,
          3.15,
          2.8,
          3.1666666666666665,
          3,
          3.2541322314049586,
          3.25,
          3.25,
          2.75,
          3.0462962962962963,
          3.298611111111111,
          3.202830188679245,
          3.25,
          3.1785714285714284,
          3.2628205128205128,
          3.169642857142857,
          2.9166666666666665,
          2.75,
          2.5,
          3.125,
          3.175,
          2.75,
          3.4375,
          3.6666666666666665,
          2.875,
          3.2,
          3.25,
          3.1346153846153846,
          3.625,
          3.125,
          3.2232142857142856,
          2.75,
          2.8125,
          3.1,
          3.241477272727273,
          3.3392857142857144,
          2.625
         ]
        }
       ],
       "layout": {
        "geo": {
         "projection": {
          "type": "equirectangular"
         },
         "showcoastlines": true,
         "showframe": false
        },
        "template": {
         "data": {
          "bar": [
           {
            "error_x": {
             "color": "#2a3f5f"
            },
            "error_y": {
             "color": "#2a3f5f"
            },
            "marker": {
             "line": {
              "color": "#E5ECF6",
              "width": 0.5
             }
            },
            "type": "bar"
           }
          ],
          "barpolar": [
           {
            "marker": {
             "line": {
              "color": "#E5ECF6",
              "width": 0.5
             }
            },
            "type": "barpolar"
           }
          ],
          "carpet": [
           {
            "aaxis": {
             "endlinecolor": "#2a3f5f",
             "gridcolor": "white",
             "linecolor": "white",
             "minorgridcolor": "white",
             "startlinecolor": "#2a3f5f"
            },
            "baxis": {
             "endlinecolor": "#2a3f5f",
             "gridcolor": "white",
             "linecolor": "white",
             "minorgridcolor": "white",
             "startlinecolor": "#2a3f5f"
            },
            "type": "carpet"
           }
          ],
          "choropleth": [
           {
            "colorbar": {
             "outlinewidth": 0,
             "ticks": ""
            },
            "type": "choropleth"
           }
          ],
          "contour": [
           {
            "colorbar": {
             "outlinewidth": 0,
             "ticks": ""
            },
            "colorscale": [
             [
              0,
              "#0d0887"
             ],
             [
              0.1111111111111111,
              "#46039f"
             ],
             [
              0.2222222222222222,
              "#7201a8"
             ],
             [
              0.3333333333333333,
              "#9c179e"
             ],
             [
              0.4444444444444444,
              "#bd3786"
             ],
             [
              0.5555555555555556,
              "#d8576b"
             ],
             [
              0.6666666666666666,
              "#ed7953"
             ],
             [
              0.7777777777777778,
              "#fb9f3a"
             ],
             [
              0.8888888888888888,
              "#fdca26"
             ],
             [
              1,
              "#f0f921"
             ]
            ],
            "type": "contour"
           }
          ],
          "contourcarpet": [
           {
            "colorbar": {
             "outlinewidth": 0,
             "ticks": ""
            },
            "type": "contourcarpet"
           }
          ],
          "heatmap": [
           {
            "colorbar": {
             "outlinewidth": 0,
             "ticks": ""
            },
            "colorscale": [
             [
              0,
              "#0d0887"
             ],
             [
              0.1111111111111111,
              "#46039f"
             ],
             [
              0.2222222222222222,
              "#7201a8"
             ],
             [
              0.3333333333333333,
              "#9c179e"
             ],
             [
              0.4444444444444444,
              "#bd3786"
             ],
             [
              0.5555555555555556,
              "#d8576b"
             ],
             [
              0.6666666666666666,
              "#ed7953"
             ],
             [
              0.7777777777777778,
              "#fb9f3a"
             ],
             [
              0.8888888888888888,
              "#fdca26"
             ],
             [
              1,
              "#f0f921"
             ]
            ],
            "type": "heatmap"
           }
          ],
          "heatmapgl": [
           {
            "colorbar": {
             "outlinewidth": 0,
             "ticks": ""
            },
            "colorscale": [
             [
              0,
              "#0d0887"
             ],
             [
              0.1111111111111111,
              "#46039f"
             ],
             [
              0.2222222222222222,
              "#7201a8"
             ],
             [
              0.3333333333333333,
              "#9c179e"
             ],
             [
              0.4444444444444444,
              "#bd3786"
             ],
             [
              0.5555555555555556,
              "#d8576b"
             ],
             [
              0.6666666666666666,
              "#ed7953"
             ],
             [
              0.7777777777777778,
              "#fb9f3a"
             ],
             [
              0.8888888888888888,
              "#fdca26"
             ],
             [
              1,
              "#f0f921"
             ]
            ],
            "type": "heatmapgl"
           }
          ],
          "histogram": [
           {
            "marker": {
             "colorbar": {
              "outlinewidth": 0,
              "ticks": ""
             }
            },
            "type": "histogram"
           }
          ],
          "histogram2d": [
           {
            "colorbar": {
             "outlinewidth": 0,
             "ticks": ""
            },
            "colorscale": [
             [
              0,
              "#0d0887"
             ],
             [
              0.1111111111111111,
              "#46039f"
             ],
             [
              0.2222222222222222,
              "#7201a8"
             ],
             [
              0.3333333333333333,
              "#9c179e"
             ],
             [
              0.4444444444444444,
              "#bd3786"
             ],
             [
              0.5555555555555556,
              "#d8576b"
             ],
             [
              0.6666666666666666,
              "#ed7953"
             ],
             [
              0.7777777777777778,
              "#fb9f3a"
             ],
             [
              0.8888888888888888,
              "#fdca26"
             ],
             [
              1,
              "#f0f921"
             ]
            ],
            "type": "histogram2d"
           }
          ],
          "histogram2dcontour": [
           {
            "colorbar": {
             "outlinewidth": 0,
             "ticks": ""
            },
            "colorscale": [
             [
              0,
              "#0d0887"
             ],
             [
              0.1111111111111111,
              "#46039f"
             ],
             [
              0.2222222222222222,
              "#7201a8"
             ],
             [
              0.3333333333333333,
              "#9c179e"
             ],
             [
              0.4444444444444444,
              "#bd3786"
             ],
             [
              0.5555555555555556,
              "#d8576b"
             ],
             [
              0.6666666666666666,
              "#ed7953"
             ],
             [
              0.7777777777777778,
              "#fb9f3a"
             ],
             [
              0.8888888888888888,
              "#fdca26"
             ],
             [
              1,
              "#f0f921"
             ]
            ],
            "type": "histogram2dcontour"
           }
          ],
          "mesh3d": [
           {
            "colorbar": {
             "outlinewidth": 0,
             "ticks": ""
            },
            "type": "mesh3d"
           }
          ],
          "parcoords": [
           {
            "line": {
             "colorbar": {
              "outlinewidth": 0,
              "ticks": ""
             }
            },
            "type": "parcoords"
           }
          ],
          "pie": [
           {
            "automargin": true,
            "type": "pie"
           }
          ],
          "scatter": [
           {
            "marker": {
             "colorbar": {
              "outlinewidth": 0,
              "ticks": ""
             }
            },
            "type": "scatter"
           }
          ],
          "scatter3d": [
           {
            "line": {
             "colorbar": {
              "outlinewidth": 0,
              "ticks": ""
             }
            },
            "marker": {
             "colorbar": {
              "outlinewidth": 0,
              "ticks": ""
             }
            },
            "type": "scatter3d"
           }
          ],
          "scattercarpet": [
           {
            "marker": {
             "colorbar": {
              "outlinewidth": 0,
              "ticks": ""
             }
            },
            "type": "scattercarpet"
           }
          ],
          "scattergeo": [
           {
            "marker": {
             "colorbar": {
              "outlinewidth": 0,
              "ticks": ""
             }
            },
            "type": "scattergeo"
           }
          ],
          "scattergl": [
           {
            "marker": {
             "colorbar": {
              "outlinewidth": 0,
              "ticks": ""
             }
            },
            "type": "scattergl"
           }
          ],
          "scattermapbox": [
           {
            "marker": {
             "colorbar": {
              "outlinewidth": 0,
              "ticks": ""
             }
            },
            "type": "scattermapbox"
           }
          ],
          "scatterpolar": [
           {
            "marker": {
             "colorbar": {
              "outlinewidth": 0,
              "ticks": ""
             }
            },
            "type": "scatterpolar"
           }
          ],
          "scatterpolargl": [
           {
            "marker": {
             "colorbar": {
              "outlinewidth": 0,
              "ticks": ""
             }
            },
            "type": "scatterpolargl"
           }
          ],
          "scatterternary": [
           {
            "marker": {
             "colorbar": {
              "outlinewidth": 0,
              "ticks": ""
             }
            },
            "type": "scatterternary"
           }
          ],
          "surface": [
           {
            "colorbar": {
             "outlinewidth": 0,
             "ticks": ""
            },
            "colorscale": [
             [
              0,
              "#0d0887"
             ],
             [
              0.1111111111111111,
              "#46039f"
             ],
             [
              0.2222222222222222,
              "#7201a8"
             ],
             [
              0.3333333333333333,
              "#9c179e"
             ],
             [
              0.4444444444444444,
              "#bd3786"
             ],
             [
              0.5555555555555556,
              "#d8576b"
             ],
             [
              0.6666666666666666,
              "#ed7953"
             ],
             [
              0.7777777777777778,
              "#fb9f3a"
             ],
             [
              0.8888888888888888,
              "#fdca26"
             ],
             [
              1,
              "#f0f921"
             ]
            ],
            "type": "surface"
           }
          ],
          "table": [
           {
            "cells": {
             "fill": {
              "color": "#EBF0F8"
             },
             "line": {
              "color": "white"
             }
            },
            "header": {
             "fill": {
              "color": "#C8D4E3"
             },
             "line": {
              "color": "white"
             }
            },
            "type": "table"
           }
          ]
         },
         "layout": {
          "annotationdefaults": {
           "arrowcolor": "#2a3f5f",
           "arrowhead": 0,
           "arrowwidth": 1
          },
          "coloraxis": {
           "colorbar": {
            "outlinewidth": 0,
            "ticks": ""
           }
          },
          "colorscale": {
           "diverging": [
            [
             0,
             "#8e0152"
            ],
            [
             0.1,
             "#c51b7d"
            ],
            [
             0.2,
             "#de77ae"
            ],
            [
             0.3,
             "#f1b6da"
            ],
            [
             0.4,
             "#fde0ef"
            ],
            [
             0.5,
             "#f7f7f7"
            ],
            [
             0.6,
             "#e6f5d0"
            ],
            [
             0.7,
             "#b8e186"
            ],
            [
             0.8,
             "#7fbc41"
            ],
            [
             0.9,
             "#4d9221"
            ],
            [
             1,
             "#276419"
            ]
           ],
           "sequential": [
            [
             0,
             "#0d0887"
            ],
            [
             0.1111111111111111,
             "#46039f"
            ],
            [
             0.2222222222222222,
             "#7201a8"
            ],
            [
             0.3333333333333333,
             "#9c179e"
            ],
            [
             0.4444444444444444,
             "#bd3786"
            ],
            [
             0.5555555555555556,
             "#d8576b"
            ],
            [
             0.6666666666666666,
             "#ed7953"
            ],
            [
             0.7777777777777778,
             "#fb9f3a"
            ],
            [
             0.8888888888888888,
             "#fdca26"
            ],
            [
             1,
             "#f0f921"
            ]
           ],
           "sequentialminus": [
            [
             0,
             "#0d0887"
            ],
            [
             0.1111111111111111,
             "#46039f"
            ],
            [
             0.2222222222222222,
             "#7201a8"
            ],
            [
             0.3333333333333333,
             "#9c179e"
            ],
            [
             0.4444444444444444,
             "#bd3786"
            ],
            [
             0.5555555555555556,
             "#d8576b"
            ],
            [
             0.6666666666666666,
             "#ed7953"
            ],
            [
             0.7777777777777778,
             "#fb9f3a"
            ],
            [
             0.8888888888888888,
             "#fdca26"
            ],
            [
             1,
             "#f0f921"
            ]
           ]
          },
          "colorway": [
           "#636efa",
           "#EF553B",
           "#00cc96",
           "#ab63fa",
           "#FFA15A",
           "#19d3f3",
           "#FF6692",
           "#B6E880",
           "#FF97FF",
           "#FECB52"
          ],
          "font": {
           "color": "#2a3f5f"
          },
          "geo": {
           "bgcolor": "white",
           "lakecolor": "white",
           "landcolor": "#E5ECF6",
           "showlakes": true,
           "showland": true,
           "subunitcolor": "white"
          },
          "hoverlabel": {
           "align": "left"
          },
          "hovermode": "closest",
          "mapbox": {
           "style": "light"
          },
          "paper_bgcolor": "white",
          "plot_bgcolor": "#E5ECF6",
          "polar": {
           "angularaxis": {
            "gridcolor": "white",
            "linecolor": "white",
            "ticks": ""
           },
           "bgcolor": "#E5ECF6",
           "radialaxis": {
            "gridcolor": "white",
            "linecolor": "white",
            "ticks": ""
           }
          },
          "scene": {
           "xaxis": {
            "backgroundcolor": "#E5ECF6",
            "gridcolor": "white",
            "gridwidth": 2,
            "linecolor": "white",
            "showbackground": true,
            "ticks": "",
            "zerolinecolor": "white"
           },
           "yaxis": {
            "backgroundcolor": "#E5ECF6",
            "gridcolor": "white",
            "gridwidth": 2,
            "linecolor": "white",
            "showbackground": true,
            "ticks": "",
            "zerolinecolor": "white"
           },
           "zaxis": {
            "backgroundcolor": "#E5ECF6",
            "gridcolor": "white",
            "gridwidth": 2,
            "linecolor": "white",
            "showbackground": true,
            "ticks": "",
            "zerolinecolor": "white"
           }
          },
          "shapedefaults": {
           "line": {
            "color": "#2a3f5f"
           }
          },
          "ternary": {
           "aaxis": {
            "gridcolor": "white",
            "linecolor": "white",
            "ticks": ""
           },
           "baxis": {
            "gridcolor": "white",
            "linecolor": "white",
            "ticks": ""
           },
           "bgcolor": "#E5ECF6",
           "caxis": {
            "gridcolor": "white",
            "linecolor": "white",
            "ticks": ""
           }
          },
          "title": {
           "x": 0.05
          },
          "xaxis": {
           "automargin": true,
           "gridcolor": "white",
           "linecolor": "white",
           "ticks": "",
           "title": {
            "standoff": 15
           },
           "zerolinecolor": "white",
           "zerolinewidth": 2
          },
          "yaxis": {
           "automargin": true,
           "gridcolor": "white",
           "linecolor": "white",
           "ticks": "",
           "title": {
            "standoff": 15
           },
           "zerolinecolor": "white",
           "zerolinewidth": 2
          }
         }
        },
        "title": {
         "text": "Geographical Map of Country wise Average Chocolate Rating",
         "x": 0.5,
         "xanchor": "center"
        }
       }
      },
      "text/html": [
       "<div>\n",
       "        \n",
       "        \n",
       "            <div id=\"00409186-b530-437b-8ff3-be0897c4c2b9\" class=\"plotly-graph-div\" style=\"height:525px; width:100%;\"></div>\n",
       "            <script type=\"text/javascript\">\n",
       "                require([\"plotly\"], function(Plotly) {\n",
       "                    window.PLOTLYENV=window.PLOTLYENV || {};\n",
       "                    \n",
       "                if (document.getElementById(\"00409186-b530-437b-8ff3-be0897c4c2b9\")) {\n",
       "                    Plotly.newPlot(\n",
       "                        '00409186-b530-437b-8ff3-be0897c4c2b9',\n",
       "                        [{\"autocolorscale\": true, \"colorbar\": {\"len\": 1.2, \"thickness\": 50, \"title\": {\"text\": \"Rating\"}, \"xpad\": 0}, \"colorscale\": [[0.0, \"rgb(255,245,240)\"], [0.125, \"rgb(254,224,210)\"], [0.25, \"rgb(252,187,161)\"], [0.375, \"rgb(252,146,114)\"], [0.5, \"rgb(251,106,74)\"], [0.625, \"rgb(239,59,44)\"], [0.75, \"rgb(203,24,29)\"], [0.875, \"rgb(165,15,21)\"], [1.0, \"rgb(103,0,13)\"]], \"locations\": [\"AUS\", \"BLZ\", \"BOL\", \"BRA\", \"MMR\", \"CMR\", null, null, \"COL\", \"COG\", \"CRI\", \"CUB\", null, \"DOM\", \"ECU\", \"SLV\", \"FJI\", \"GHA\", null, \"GRD\", \"GTM\", \"HTI\", \"USA\", \"HMD\", \"IND\", \"IDN\", \"CIV\", \"JAM\", \"LBR\", \"MDG\", null, \"MYS\", \"MLT\", \"MEX\", null, \"NIC\", \"NGA\", \"PAN\", \"PNG\", \"PER\", \"PHI\", \"STP\", \"PRI\", \"WSM\", \"STP\", null, \"SLB\", \"SA\", \"LKA\", \"LCA\", \"SUR\", \"TZA\", \"TTO\", \"TGO\", \"TTO\", null, \"UGA\", \"VUT\", \"VEN\", \"VNM\", \"WA\"], \"marker\": {\"line\": {\"color\": \"darkgray\", \"width\": 0.5}}, \"text\": [\"Australia\", \"Belize\", \"Bolivia\", \"Brazil\", \"Burma\", \"Carribean\", \"Carribean(DR/Jam/Tri)\", \"Central and S. America\", \"Colombia\", \"Congo\", \"Costa Rica\", \"Cuba\", \"Domincan Republic\", \"Dominican Republic\", \"Ecuador\", \"El Salvador\", \"Fiji\", \"Ghana\", \"Ghana & Madagascar\", \"Grenada\", \"Guatemala\", \"Haiti\", \"Hawaii\", \"Honduras\", \"India\", \"Indonesia\", \"Ivory Coast\", \"Jamaica\", \"Liberia\", \"Madagascar\", \"Madagascar & Ecuador\", \"Malaysia\", \"Martinique\", \"Mexico\", \"Multiple\", \"Nicaragua\", \"Nigeria\", \"Panama\", \"Papua New Guinea\", \"Peru\", \"Philippines\", \"Principe\", \"Puerto Rico\", \"Samoa\", \"Sao Tome\", \"Sao Tome & Principe\", \"Solomon Islands\", \"South America\", \"Sri Lanka\", \"St. Lucia\", \"Suriname\", \"Tanzania\", \"Tobago\", \"Togo\", \"Trinidad\", \"Trinidad-Tobago\", \"Uganda\", \"Vanuatu\", \"Venezuela\", \"Vietnam\", \"West Africa\"], \"type\": \"choropleth\", \"z\": [3.25, 3.23125, 3.2, 3.2760416666666665, 3.0, 2.9642857142857144, 3.0, 2.75, 3.222972972972973, 3.15, 3.164285714285714, 3.225, 3.21875, 3.204391891891892, 3.0414285714285714, 2.875, 3.107142857142857, 2.9827586206896552, 2.0, 3.0535714285714284, 3.324074074074074, 3.4375, 3.304054054054054, 3.3461538461538463, 3.125, 3.15, 2.8, 3.1666666666666665, 3.0, 3.2541322314049586, 3.25, 3.25, 2.75, 3.0462962962962963, 3.298611111111111, 3.202830188679245, 3.25, 3.1785714285714284, 3.2628205128205128, 3.169642857142857, 2.9166666666666665, 2.75, 2.5, 3.125, 3.175, 2.75, 3.4375, 3.6666666666666665, 2.875, 3.2, 3.25, 3.1346153846153846, 3.625, 3.125, 3.2232142857142856, 2.75, 2.8125, 3.1, 3.241477272727273, 3.3392857142857144, 2.625]}],\n",
       "                        {\"geo\": {\"projection\": {\"type\": \"equirectangular\"}, \"showcoastlines\": true, \"showframe\": false}, \"template\": {\"data\": {\"bar\": [{\"error_x\": {\"color\": \"#2a3f5f\"}, \"error_y\": {\"color\": \"#2a3f5f\"}, \"marker\": {\"line\": {\"color\": \"#E5ECF6\", \"width\": 0.5}}, \"type\": \"bar\"}], \"barpolar\": [{\"marker\": {\"line\": {\"color\": \"#E5ECF6\", \"width\": 0.5}}, \"type\": \"barpolar\"}], \"carpet\": [{\"aaxis\": {\"endlinecolor\": \"#2a3f5f\", \"gridcolor\": \"white\", \"linecolor\": \"white\", \"minorgridcolor\": \"white\", \"startlinecolor\": \"#2a3f5f\"}, \"baxis\": {\"endlinecolor\": \"#2a3f5f\", \"gridcolor\": \"white\", \"linecolor\": \"white\", \"minorgridcolor\": \"white\", \"startlinecolor\": \"#2a3f5f\"}, \"type\": \"carpet\"}], \"choropleth\": [{\"colorbar\": {\"outlinewidth\": 0, \"ticks\": \"\"}, \"type\": \"choropleth\"}], \"contour\": [{\"colorbar\": {\"outlinewidth\": 0, \"ticks\": \"\"}, \"colorscale\": [[0.0, \"#0d0887\"], [0.1111111111111111, \"#46039f\"], [0.2222222222222222, \"#7201a8\"], [0.3333333333333333, \"#9c179e\"], [0.4444444444444444, \"#bd3786\"], [0.5555555555555556, \"#d8576b\"], [0.6666666666666666, \"#ed7953\"], [0.7777777777777778, \"#fb9f3a\"], [0.8888888888888888, \"#fdca26\"], [1.0, \"#f0f921\"]], \"type\": \"contour\"}], \"contourcarpet\": [{\"colorbar\": {\"outlinewidth\": 0, \"ticks\": \"\"}, \"type\": \"contourcarpet\"}], \"heatmap\": [{\"colorbar\": {\"outlinewidth\": 0, \"ticks\": \"\"}, \"colorscale\": [[0.0, \"#0d0887\"], [0.1111111111111111, \"#46039f\"], [0.2222222222222222, \"#7201a8\"], [0.3333333333333333, \"#9c179e\"], [0.4444444444444444, \"#bd3786\"], [0.5555555555555556, \"#d8576b\"], [0.6666666666666666, \"#ed7953\"], [0.7777777777777778, \"#fb9f3a\"], [0.8888888888888888, \"#fdca26\"], [1.0, \"#f0f921\"]], \"type\": \"heatmap\"}], \"heatmapgl\": [{\"colorbar\": {\"outlinewidth\": 0, \"ticks\": \"\"}, \"colorscale\": [[0.0, \"#0d0887\"], [0.1111111111111111, \"#46039f\"], [0.2222222222222222, \"#7201a8\"], [0.3333333333333333, \"#9c179e\"], [0.4444444444444444, \"#bd3786\"], [0.5555555555555556, \"#d8576b\"], [0.6666666666666666, \"#ed7953\"], [0.7777777777777778, \"#fb9f3a\"], [0.8888888888888888, \"#fdca26\"], [1.0, \"#f0f921\"]], \"type\": \"heatmapgl\"}], \"histogram\": [{\"marker\": {\"colorbar\": {\"outlinewidth\": 0, \"ticks\": \"\"}}, \"type\": \"histogram\"}], \"histogram2d\": [{\"colorbar\": {\"outlinewidth\": 0, \"ticks\": \"\"}, \"colorscale\": [[0.0, \"#0d0887\"], [0.1111111111111111, \"#46039f\"], [0.2222222222222222, \"#7201a8\"], [0.3333333333333333, \"#9c179e\"], [0.4444444444444444, \"#bd3786\"], [0.5555555555555556, \"#d8576b\"], [0.6666666666666666, \"#ed7953\"], [0.7777777777777778, \"#fb9f3a\"], [0.8888888888888888, \"#fdca26\"], [1.0, \"#f0f921\"]], \"type\": \"histogram2d\"}], \"histogram2dcontour\": [{\"colorbar\": {\"outlinewidth\": 0, \"ticks\": \"\"}, \"colorscale\": [[0.0, \"#0d0887\"], [0.1111111111111111, \"#46039f\"], [0.2222222222222222, \"#7201a8\"], [0.3333333333333333, \"#9c179e\"], [0.4444444444444444, \"#bd3786\"], [0.5555555555555556, \"#d8576b\"], [0.6666666666666666, \"#ed7953\"], [0.7777777777777778, \"#fb9f3a\"], [0.8888888888888888, \"#fdca26\"], [1.0, \"#f0f921\"]], \"type\": \"histogram2dcontour\"}], \"mesh3d\": [{\"colorbar\": {\"outlinewidth\": 0, \"ticks\": \"\"}, \"type\": \"mesh3d\"}], \"parcoords\": [{\"line\": {\"colorbar\": {\"outlinewidth\": 0, \"ticks\": \"\"}}, \"type\": \"parcoords\"}], \"pie\": [{\"automargin\": true, \"type\": \"pie\"}], \"scatter\": [{\"marker\": {\"colorbar\": {\"outlinewidth\": 0, \"ticks\": \"\"}}, \"type\": \"scatter\"}], \"scatter3d\": [{\"line\": {\"colorbar\": {\"outlinewidth\": 0, \"ticks\": \"\"}}, \"marker\": {\"colorbar\": {\"outlinewidth\": 0, \"ticks\": \"\"}}, \"type\": \"scatter3d\"}], \"scattercarpet\": [{\"marker\": {\"colorbar\": {\"outlinewidth\": 0, \"ticks\": \"\"}}, \"type\": \"scattercarpet\"}], \"scattergeo\": [{\"marker\": {\"colorbar\": {\"outlinewidth\": 0, \"ticks\": \"\"}}, \"type\": \"scattergeo\"}], \"scattergl\": [{\"marker\": {\"colorbar\": {\"outlinewidth\": 0, \"ticks\": \"\"}}, \"type\": \"scattergl\"}], \"scattermapbox\": [{\"marker\": {\"colorbar\": {\"outlinewidth\": 0, \"ticks\": \"\"}}, \"type\": \"scattermapbox\"}], \"scatterpolar\": [{\"marker\": {\"colorbar\": {\"outlinewidth\": 0, \"ticks\": \"\"}}, \"type\": \"scatterpolar\"}], \"scatterpolargl\": [{\"marker\": {\"colorbar\": {\"outlinewidth\": 0, \"ticks\": \"\"}}, \"type\": \"scatterpolargl\"}], \"scatterternary\": [{\"marker\": {\"colorbar\": {\"outlinewidth\": 0, \"ticks\": \"\"}}, \"type\": \"scatterternary\"}], \"surface\": [{\"colorbar\": {\"outlinewidth\": 0, \"ticks\": \"\"}, \"colorscale\": [[0.0, \"#0d0887\"], [0.1111111111111111, \"#46039f\"], [0.2222222222222222, \"#7201a8\"], [0.3333333333333333, \"#9c179e\"], [0.4444444444444444, \"#bd3786\"], [0.5555555555555556, \"#d8576b\"], [0.6666666666666666, \"#ed7953\"], [0.7777777777777778, \"#fb9f3a\"], [0.8888888888888888, \"#fdca26\"], [1.0, \"#f0f921\"]], \"type\": \"surface\"}], \"table\": [{\"cells\": {\"fill\": {\"color\": \"#EBF0F8\"}, \"line\": {\"color\": \"white\"}}, \"header\": {\"fill\": {\"color\": \"#C8D4E3\"}, \"line\": {\"color\": \"white\"}}, \"type\": \"table\"}]}, \"layout\": {\"annotationdefaults\": {\"arrowcolor\": \"#2a3f5f\", \"arrowhead\": 0, \"arrowwidth\": 1}, \"coloraxis\": {\"colorbar\": {\"outlinewidth\": 0, \"ticks\": \"\"}}, \"colorscale\": {\"diverging\": [[0, \"#8e0152\"], [0.1, \"#c51b7d\"], [0.2, \"#de77ae\"], [0.3, \"#f1b6da\"], [0.4, \"#fde0ef\"], [0.5, \"#f7f7f7\"], [0.6, \"#e6f5d0\"], [0.7, \"#b8e186\"], [0.8, \"#7fbc41\"], [0.9, \"#4d9221\"], [1, \"#276419\"]], \"sequential\": [[0.0, \"#0d0887\"], [0.1111111111111111, \"#46039f\"], [0.2222222222222222, \"#7201a8\"], [0.3333333333333333, \"#9c179e\"], [0.4444444444444444, \"#bd3786\"], [0.5555555555555556, \"#d8576b\"], [0.6666666666666666, \"#ed7953\"], [0.7777777777777778, \"#fb9f3a\"], [0.8888888888888888, \"#fdca26\"], [1.0, \"#f0f921\"]], \"sequentialminus\": [[0.0, \"#0d0887\"], [0.1111111111111111, \"#46039f\"], [0.2222222222222222, \"#7201a8\"], [0.3333333333333333, \"#9c179e\"], [0.4444444444444444, \"#bd3786\"], [0.5555555555555556, \"#d8576b\"], [0.6666666666666666, \"#ed7953\"], [0.7777777777777778, \"#fb9f3a\"], [0.8888888888888888, \"#fdca26\"], [1.0, \"#f0f921\"]]}, \"colorway\": [\"#636efa\", \"#EF553B\", \"#00cc96\", \"#ab63fa\", \"#FFA15A\", \"#19d3f3\", \"#FF6692\", \"#B6E880\", \"#FF97FF\", \"#FECB52\"], \"font\": {\"color\": \"#2a3f5f\"}, \"geo\": {\"bgcolor\": \"white\", \"lakecolor\": \"white\", \"landcolor\": \"#E5ECF6\", \"showlakes\": true, \"showland\": true, \"subunitcolor\": \"white\"}, \"hoverlabel\": {\"align\": \"left\"}, \"hovermode\": \"closest\", \"mapbox\": {\"style\": \"light\"}, \"paper_bgcolor\": \"white\", \"plot_bgcolor\": \"#E5ECF6\", \"polar\": {\"angularaxis\": {\"gridcolor\": \"white\", \"linecolor\": \"white\", \"ticks\": \"\"}, \"bgcolor\": \"#E5ECF6\", \"radialaxis\": {\"gridcolor\": \"white\", \"linecolor\": \"white\", \"ticks\": \"\"}}, \"scene\": {\"xaxis\": {\"backgroundcolor\": \"#E5ECF6\", \"gridcolor\": \"white\", \"gridwidth\": 2, \"linecolor\": \"white\", \"showbackground\": true, \"ticks\": \"\", \"zerolinecolor\": \"white\"}, \"yaxis\": {\"backgroundcolor\": \"#E5ECF6\", \"gridcolor\": \"white\", \"gridwidth\": 2, \"linecolor\": \"white\", \"showbackground\": true, \"ticks\": \"\", \"zerolinecolor\": \"white\"}, \"zaxis\": {\"backgroundcolor\": \"#E5ECF6\", \"gridcolor\": \"white\", \"gridwidth\": 2, \"linecolor\": \"white\", \"showbackground\": true, \"ticks\": \"\", \"zerolinecolor\": \"white\"}}, \"shapedefaults\": {\"line\": {\"color\": \"#2a3f5f\"}}, \"ternary\": {\"aaxis\": {\"gridcolor\": \"white\", \"linecolor\": \"white\", \"ticks\": \"\"}, \"baxis\": {\"gridcolor\": \"white\", \"linecolor\": \"white\", \"ticks\": \"\"}, \"bgcolor\": \"#E5ECF6\", \"caxis\": {\"gridcolor\": \"white\", \"linecolor\": \"white\", \"ticks\": \"\"}}, \"title\": {\"x\": 0.05}, \"xaxis\": {\"automargin\": true, \"gridcolor\": \"white\", \"linecolor\": \"white\", \"ticks\": \"\", \"title\": {\"standoff\": 15}, \"zerolinecolor\": \"white\", \"zerolinewidth\": 2}, \"yaxis\": {\"automargin\": true, \"gridcolor\": \"white\", \"linecolor\": \"white\", \"ticks\": \"\", \"title\": {\"standoff\": 15}, \"zerolinecolor\": \"white\", \"zerolinewidth\": 2}}}, \"title\": {\"text\": \"Geographical Map of Country wise Average Chocolate Rating\", \"x\": 0.5, \"xanchor\": \"center\"}},\n",
       "                        {\"responsive\": true}\n",
       "                    ).then(function(){\n",
       "                            \n",
       "var gd = document.getElementById('00409186-b530-437b-8ff3-be0897c4c2b9');\n",
       "var x = new MutationObserver(function (mutations, observer) {{\n",
       "        var display = window.getComputedStyle(gd).display;\n",
       "        if (!display || display === 'none') {{\n",
       "            console.log([gd, 'removed!']);\n",
       "            Plotly.purge(gd);\n",
       "            observer.disconnect();\n",
       "        }}\n",
       "}});\n",
       "\n",
       "// Listen for the removal of the full notebook cells\n",
       "var notebookContainer = gd.closest('#notebook-container');\n",
       "if (notebookContainer) {{\n",
       "    x.observe(notebookContainer, {childList: true});\n",
       "}}\n",
       "\n",
       "// Listen for the clearing of the current output cell\n",
       "var outputEl = gd.closest('.output');\n",
       "if (outputEl) {{\n",
       "    x.observe(outputEl, {childList: true});\n",
       "}}\n",
       "\n",
       "                        })\n",
       "                };\n",
       "                });\n",
       "            </script>\n",
       "        </div>"
      ]
     },
     "metadata": {},
     "output_type": "display_data"
    }
   ],
   "source": [
    "#Plotly has to be installed on Jupyter notebook for this geographical map\n",
    "#pip install plotly==4.8.1\n",
    "import plotly.graph_objects as go\n",
    "import pandas as pd\n",
    "\n",
    "fig = go.Figure(data=go.Choropleth(\n",
    "    locations = df_native_country['Code'],\n",
    "    z = df_native_country['Rating'],\n",
    "    text = df_native_country['BroadBeanOriginModified'],\n",
    "    colorscale = 'Reds',\n",
    "    autocolorscale = True,\n",
    "    \n",
    "    marker_line_color='darkgray',\n",
    "    marker_line_width=0.5,\n",
    "    \n",
    "    colorbar_title = 'Rating',\n",
    "    colorbar_title_font_size = 14,\n",
    "    colorbar_xpad= 0,\n",
    "    colorbar_thickness= 50,\n",
    "    colorbar_len = 1.2,\n",
    "    \n",
    "))\n",
    "\n",
    "fig.update_layout(\n",
    "    title_text='Geographical Map of Country wise Average Chocolate Rating',\n",
    "    title_x = 0.5,\n",
    "    title_xanchor= 'center',\n",
    "    geo=dict(\n",
    "        showframe=False,\n",
    "        showcoastlines=True,\n",
    "        projection_type='equirectangular',\n",
    "        \n",
    "    ),\n",
    "    \n",
    ")\n",
    "\n",
    "fig.show()"
   ]
  },
  {
   "cell_type": "markdown",
   "metadata": {},
   "source": [
    "<h3>7.4- Treemap for Distribution of Chocolate Reviews for Years - Using Squarify for this </h3>"
   ]
  },
  {
   "cell_type": "code",
   "execution_count": 35,
   "metadata": {},
   "outputs": [
    {
     "data": {
      "image/png": "[encoded data removed]",
      "text/plain": [
       "<Figure size 1120x800 with 1 Axes>"
      ]
     },
     "metadata": {},
     "output_type": "display_data"
    }
   ],
   "source": [
    "# Squarify has to be installed on jupyter notebook for this visualisation\n",
    "#pip install squarify\n",
    "import squarify \n",
    "# Import Data\n",
    "data_raw_education = [df[\"ReviewDate\"]]\n",
    "headers = [\"ReviewDate\"]\n",
    "df_raw_education = pd.concat(data_raw_education, axis=1, keys=headers)\n",
    "\n",
    "# Prepare Data\n",
    "df_raw_education = df_raw_education.groupby('ReviewDate').size().reset_index(name='counts')\n",
    "labels = df_raw_education.apply(lambda x: str(x[0]) + \"\\n(\" + str(x[1])+\")\", axis=1)\n",
    "sizes = df_raw_education['counts'].values.tolist()\n",
    "colors = [plt.cm.Spectral(i/float(len(labels))) for i in range(len(labels))]\n",
    "\n",
    "# Draw Plot\n",
    "plt.figure(figsize=(14,10), dpi= 80)\n",
    "squarify.plot(sizes=sizes, label=labels, color=colors, alpha=.8)\n",
    "\n",
    "# Decorate\n",
    "plt.title('Treemap for Distribution of Chocolate Reviews for Years', size ='20', pad='10')\n",
    "plt.axis('off')\n",
    "plt.rc('font', size=14, weight=13)\n",
    "plt.show()"
   ]
  }
 ],
 "metadata": {
  "kernelspec": {
   "display_name": "Python 2",
   "language": "python",
   "name": "python2"
  },
  "language_info": {
   "codemirror_mode": {
    "name": "ipython",
    "version": 2
   },
   "file_extension": ".py",
   "mimetype": "text/x-python",
   "name": "python",
   "nbconvert_exporter": "python",
   "pygments_lexer": "ipython2",
   "version": "2.7.16"
  }
 },
 "nbformat": 4,
 "nbformat_minor": 2
}
